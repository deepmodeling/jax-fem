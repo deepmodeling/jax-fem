{
 "cells": [
  {
   "cell_type": "markdown",
   "id": "06f008ba",
   "metadata": {},
   "source": [
    "# Hyperelasticity"
   ]
  },
  {
   "cell_type": "markdown",
   "id": "265dc965",
   "metadata": {},
   "source": [
    "## Problem definition"
   ]
  },
  {
   "cell_type": "markdown",
   "id": "f398bf56",
   "metadata": {},
   "source": [
    "Hyperelastic materials, such as elastomers and biological soft tissues, demonstrate characteristic nonlinear stress-strain behavior governed by strain energy density functions under finite deformations. This example demostrate how to solve the boundary value problem (BVP) of Neo-Hookean hyperelasticity using JAX-FEM, with particular focus on the finite deformation regime induced by prescribed displacement constraints."
   ]
  },
  {
   "cell_type": "markdown",
   "id": "5956f4c6",
   "metadata": {},
   "source": [
    "The governing equations for the BVP of hyperelastic materials can be expressed as:\n",
    "$$\n",
    "\\begin{aligned}\n",
    "- \\nabla \\cdot \\boldsymbol{P} &= \\boldsymbol{b} &&\\text{in } \\Omega, \\\\\n",
    "\\boldsymbol{u} &= \\boldsymbol{u}_D &&\\text{on } \\Gamma_D, \\\\\n",
    "\\boldsymbol{P} \\cdot \\boldsymbol{n} &= \\boldsymbol{t} &&\\text{on } \\Gamma_N.\n",
    "\\end{aligned}\n",
    "$$\n",
    "where the computational domain is a unit cube: $\\Omega = (0,1) \\times (0,1) \\times (0,1)$. A fixed displacement boundary condition $u_{D_1} = 0$ is applied on the right surface $\\Gamma_{D_1}$ ($x = 1$), while a prescribed displacement field is imposed on the left surface $\\Gamma_{D_2}$ ($x = 0$), which is defined as follows:\n",
    "$$\n",
    "u_{D_2} = \\left[\n",
    "\\begin{array}{c}\n",
    "0 \\\\\n",
    "\\dfrac{0.5 + (x_2 - 0.5)\\cos\\left(\\frac{\\pi}{3}\\right) - (x_3 - 0.5)\\sin\\left(\\frac{\\pi}{3}\\right) - x_2}{2} \\\\\n",
    "\\dfrac{0.5 + (x_2 - 0.5)\\sin\\left(\\frac{\\pi}{3}\\right) + (x_3 - 0.5)\\cos\\left(\\frac{\\pi}{3}\\right) - x_3}{2}\n",
    "\\end{array}\n",
    "\\right]\n",
    "$$\n",
    "The traction in the Neumann boundary condition is specified as $\\boldsymbol{t} = \\begin{bmatrix}0 & 0 & 0\\end{bmatrix}^{\\textrm{T}}$, and the body force is defined as $\\boldsymbol{b} = \\begin{bmatrix}0 & 0 & 0\\end{bmatrix}^{\\textrm{T}}$."
   ]
  },
  {
   "cell_type": "markdown",
   "id": "d20f7971",
   "metadata": {},
   "source": [
    "To define the BVP to be solved, we need to derive the weak form. We multiply the momentum equation $- \\nabla \\cdot \\boldsymbol{P} = \\boldsymbol{b}$ by a test function $\\boldsymbol{v} \\in \\mathcal{V}_0$ (where $\\mathcal{V}_0 = \\{\\boldsymbol{v} \\in H^1(\\Omega) | \\boldsymbol{v} = \\boldsymbol{0} \\text{ on } \\Gamma_D\\}$) and integrate over the domain:\n",
    "$$\n",
    "-\\int_\\Omega (\\nabla \\cdot \\boldsymbol{P}) \\cdot \\boldsymbol{v} \\, dV = \\int_\\Omega \\boldsymbol{b} \\cdot \\boldsymbol{v} \\, dV\n",
    "$$\n",
    "then，we can obtain the following formulation by applying the divergence theorem:\n",
    "$$\n",
    "\\int_\\Omega \\boldsymbol{P} : \\nabla \\boldsymbol{v} \\, dV \n",
    "- \\int_{\\partial \\Omega} (\\boldsymbol{P} \\boldsymbol{n}) \\cdot \\boldsymbol{v} \\, dS \n",
    "= \\int_\\Omega \\boldsymbol{b} \\cdot \\boldsymbol{v} \\, dV\n",
    "$$\n",
    "We can use the defined boudnary conditions to obtain:\n",
    "$$\n",
    "\\int_\\Omega \\boldsymbol{P}(\\nabla\\boldsymbol{u}):\\nabla\\boldsymbol{v} \\, dV - \\int_\\Omega \\boldsymbol{b} \\cdot \\boldsymbol{v} \\, dV - \\int_{\\Gamma_N} \\boldsymbol{t} \\cdot \\boldsymbol{v} \\, dS  = 0 \\quad \\forall \\boldsymbol{v} \\in \\mathcal{V}_0\n",
    "$$"
   ]
  },
  {
   "cell_type": "markdown",
   "id": "9f2acac0",
   "metadata": {},
   "source": [
    "The first Piola-Kirchhoff stress $\\boldsymbol{P}$ is given by:\n",
    "$$\n",
    "\\boldsymbol{P} = \\frac{\\partial W}{\\partial \\boldsymbol{F}}\n",
    "$$\n",
    "where $\\boldsymbol{F}$ is the deformation gradient given by: \n",
    "$$\n",
    "\\boldsymbol{F} = \\nabla \\boldsymbol{u} + \\boldsymbol{I}\n",
    "$$\n",
    "The strain energy density function $W(\\boldsymbol{F})$ for the [Neo-Hookean material](https://en.wikipedia.org/wiki/Neo-Hookean_solid) can be expressed as:\n",
    "$$\n",
    "W(F) = \\frac{G}{2}(J^{-2/3}I_1 - 3) + \\frac{K}{2}(J - 1)^2\n",
    "$$"
   ]
  },
  {
   "cell_type": "markdown",
   "id": "e1e652b9",
   "metadata": {},
   "source": [
    "## Implementation"
   ]
  },
  {
   "cell_type": "markdown",
   "id": "d0f296dd",
   "metadata": {},
   "source": [
    "First, we need to import some useful modules："
   ]
  },
  {
   "cell_type": "code",
   "execution_count": null,
   "id": "331628fe",
   "metadata": {},
   "outputs": [],
   "source": [
    "# Import some useful modules.\n",
    "import jax\n",
    "import jax.numpy as np\n",
    "import os\n",
    "\n",
    "# Import JAX-FEM specific modules.\n",
    "from jax_fem.problem import Problem\n",
    "from jax_fem.solver import solver\n",
    "from jax_fem.utils import save_sol\n",
    "from jax_fem.generate_mesh import box_mesh_gmsh, get_meshio_cell_type, Mesh"
   ]
  },
  {
   "cell_type": "markdown",
   "id": "ec15526a",
   "metadata": {},
   "source": [
    "### Weak form"
   ]
  },
  {
   "cell_type": "markdown",
   "id": "141e751f",
   "metadata": {},
   "source": [
    "In this example, we use the **Laplace Kernel** to implement hyperelastic constitutive relations by overriding the `get_tensor_map` method to define hyperelastic material response, where the `get_tensor_map` function defines the core mapping:\n",
    "\n",
    "$$\\text{tensor map}: \\nabla \\boldsymbol{u} \\rightarrow \\boldsymbol{P} = \\frac{\\partial W(\\boldsymbol{F})}{\\partial \\boldsymbol{F}}\\bigg|_{\\boldsymbol{F}=\\nabla \\boldsymbol{u} + \\boldsymbol{I}}$$\n",
    "\n",
    "The implementation strategy involves: defining the strain energy density function `psi(F)` representing $W(\\boldsymbol{F})$, then using `jax.grad(psi)` to compute the first Piola-Kirchhoff stress tensor. The Laplace Kernel calls this mapping to convert displacement gradients into stress tensors and computes the volume integral $\\int_\\Omega \\boldsymbol{P} : \\nabla \\boldsymbol{v} \\, d\\Omega$. \n",
    "\n",
    "This process completely avoids manual derivation of complex stress expressions. Users only need to define the mathematical expression of physical laws (strain energy function), while automatic differentiation (AD) technique in `jax` automatically handles all complex tensor differential operations, including computation of the first Piola-Kirchhoff stress tensor $\\boldsymbol{P}$ and tangent stiffness matrix generation. This not only eliminates the risk of errors in complex tensor derivations but also makes constitutive model implementation as intuitive as writing mathematical formulas."
   ]
  },
  {
   "cell_type": "code",
   "execution_count": null,
   "id": "5a11c2e7",
   "metadata": {},
   "outputs": [],
   "source": [
    "# Define constitutive relationship.\n",
    "class HyperElasticity(Problem):\n",
    "    # The function 'get_tensor_map' overrides base class method. Generally, JAX-FEM \n",
    "    # solves -div(f(u_grad)) = b. Here, we define f(u_grad) = P. Notice how we first \n",
    "    # define 'psi' (representing W), and then use automatic differentiation (jax.grad) \n",
    "    # to obtain the 'P_fn' function.\n",
    "    def get_tensor_map(self):\n",
    "\n",
    "        def psi(F):\n",
    "            E = 10.\n",
    "            nu = 0.3\n",
    "            mu = E / (2. * (1. + nu))\n",
    "            kappa = E / (3. * (1. - 2. * nu))\n",
    "            J = np.linalg.det(F)\n",
    "            Jinv = J**(-2. / 3.)\n",
    "            I1 = np.trace(F.T @ F)\n",
    "            energy = (mu / 2.) * (Jinv * I1 - 3.) + (kappa / 2.) * (J - 1.)**2.\n",
    "            return energy\n",
    "\n",
    "        P_fn = jax.grad(psi)\n",
    "\n",
    "        def first_PK_stress(u_grad):\n",
    "            I = np.eye(self.dim)\n",
    "            F = u_grad + I\n",
    "            P = P_fn(F)\n",
    "            return P\n",
    "\n",
    "        return first_PK_stress"
   ]
  },
  {
   "cell_type": "markdown",
   "id": "48c376f9",
   "metadata": {},
   "source": [
    "### Mesh"
   ]
  },
  {
   "cell_type": "markdown",
   "id": "39424093",
   "metadata": {},
   "source": [
    "Here we use the first-order hexahedron element `HEX8` to discretize the computational domain:"
   ]
  },
  {
   "cell_type": "code",
   "execution_count": null,
   "id": "e64b76e1",
   "metadata": {},
   "outputs": [],
   "source": [
    "# Specify mesh-related information (first-order hexahedron element).\n",
    "ele_type = 'HEX8'\n",
    "cell_type = get_meshio_cell_type(ele_type)\n",
    "data_dir = os.path.join(os.path.dirname(__file__), 'data')\n",
    "Lx, Ly, Lz = 1., 1., 1.\n",
    "meshio_mesh = box_mesh_gmsh(Nx=20,\n",
    "                       Ny=20,\n",
    "                       Nz=20,\n",
    "                       Lx=Lx,\n",
    "                       Ly=Ly,\n",
    "                       Lz=Lz,\n",
    "                       data_dir=data_dir,\n",
    "                       ele_type=ele_type)\n",
    "mesh = Mesh(meshio_mesh.points, meshio_mesh.cells_dict[cell_type])"
   ]
  },
  {
   "cell_type": "markdown",
   "id": "f4c690e2",
   "metadata": {},
   "source": [
    "### Boundary conditions"
   ]
  },
  {
   "cell_type": "markdown",
   "id": "f28744d7",
   "metadata": {},
   "source": [
    "In this example, the Neumann boundary condition corresponds to a traction of zero and is therefore not explicitly specified. The code below demonstrates the three steps for applying Dirichlet boundary conditions:"
   ]
  },
  {
   "cell_type": "code",
   "execution_count": null,
   "id": "34b0d4ac",
   "metadata": {},
   "outputs": [],
   "source": [
    "# Define boundary locations.\n",
    "def left(point):\n",
    "    return np.isclose(point[0], 0., atol=1e-5)\n",
    "\n",
    "\n",
    "def right(point):\n",
    "    return np.isclose(point[0], Lx, atol=1e-5)\n",
    "\n",
    "\n",
    "# Define value function.\n",
    "def zero_dirichlet_val(point):\n",
    "    return 0.\n",
    "\n",
    "\n",
    "def dirichlet_val_x2(point):\n",
    "    return (0.5 + (point[1] - 0.5) * np.cos(np.pi / 3.) -\n",
    "            (point[2] - 0.5) * np.sin(np.pi / 3.) - point[1]) / 2.\n",
    "\n",
    "\n",
    "def dirichlet_val_x3(point):\n",
    "    return (0.5 + (point[1] - 0.5) * np.sin(np.pi / 3.) +\n",
    "            (point[2] - 0.5) * np.cos(np.pi / 3.) - point[2]) / 2.\n",
    "\n",
    "\n",
    "dirichlet_bc_info = [[left] * 3 + [right] * 3, [0, 1, 2] * 2,\n",
    "                     [zero_dirichlet_val, dirichlet_val_x2, dirichlet_val_x3] +\n",
    "                     [zero_dirichlet_val] * 3]"
   ]
  },
  {
   "cell_type": "markdown",
   "id": "f2bfdef4",
   "metadata": {},
   "source": [
    "### Problem"
   ]
  },
  {
   "cell_type": "markdown",
   "id": "f5373f59",
   "metadata": {},
   "source": [
    "We have completed all the preliminary preparations for the problem. Then we can proceed to create an instance of our BVP:"
   ]
  },
  {
   "cell_type": "code",
   "execution_count": null,
   "id": "db76096a",
   "metadata": {},
   "outputs": [],
   "source": [
    "# Create an instance of the problem.\n",
    "problem = HyperElasticity(mesh,\n",
    "                          vec=3,\n",
    "                          dim=3,\n",
    "                          ele_type=ele_type,\n",
    "                          dirichlet_bc_info=dirichlet_bc_info)"
   ]
  },
  {
   "cell_type": "markdown",
   "id": "91b802cd",
   "metadata": {},
   "source": [
    "### Solver"
   ]
  },
  {
   "cell_type": "markdown",
   "id": "ae46fcfc",
   "metadata": {},
   "source": [
    "The defined problem is passed to `solver` to solve the defined BVP. Here, we employ the Newton-Raphson method, specifically defined in `jax_fem.solver`. Under the hood, the solver iteratively solves the nonlinear equation system $\\boldsymbol{R}(\\boldsymbol{u}) = \\boldsymbol{0}$, comprising four main steps:\n",
    "\n",
    "1. Residual calculation: Call `problem.newton_update()` to compute the residual vector of the current solution\n",
    "\n",
    "2. Linear solve: Solve the linear system $\\boldsymbol{J} \\Delta \\boldsymbol{u} = -\\boldsymbol{R}$ through `linear_incremental_solver`\n",
    "\n",
    "3. Solution update: $\\boldsymbol{u}^{(k+1)} = \\boldsymbol{u}^{(k)} + \\Delta \\boldsymbol{u}$\n",
    "\n",
    "4. Convergence check: Verify $\\|\\boldsymbol{R}(\\boldsymbol{u}^{(k+1)})\\|_2 < \\text{tol}$ and relative error criteria\n",
    "\n",
    "Leveraging the automatic differentiation technique in `jax`, the Jacobian matrices $\\boldsymbol{J}$ can be automatically computed. For boundary condition treatment, the **row elimination** method is adopted to impose Dirichlet boundary conditions by modifying corresponding rows of the stiffness matrix and residual vector to enforce boundary constraints. Here, we choose the `PETSc` solver to solve the involved linear system:"
   ]
  },
  {
   "cell_type": "code",
   "execution_count": null,
   "id": "0616fd0c",
   "metadata": {},
   "outputs": [],
   "source": [
    "# Solve the defined problem.    \n",
    "sol_list = solver(problem, solver_options={'petsc_solver': {}})"
   ]
  },
  {
   "cell_type": "markdown",
   "id": "68e56f9e",
   "metadata": {},
   "source": [
    "### Postprocessing"
   ]
  },
  {
   "cell_type": "markdown",
   "id": "6e3c38b2",
   "metadata": {},
   "source": [
    "The solution can be exported to VTK format files (readable by ParaView and other post-processing software) using the built-in function `save_sol`:"
   ]
  },
  {
   "cell_type": "code",
   "execution_count": null,
   "id": "63cb866f",
   "metadata": {},
   "outputs": [],
   "source": [
    "# Store the solution to local file.\n",
    "vtk_path = os.path.join(data_dir, f'vtk/u.vtu')\n",
    "save_sol(problem.fes[0], sol_list[0], vtk_path)"
   ]
  },
  {
   "cell_type": "markdown",
   "id": "0047d706",
   "metadata": {},
   "source": [
    "<center>\n",
    "  <img src=\"../../_static/images/hyperelasticity.png\" width=\"400\" />\n",
    "  <p><em>Solution to the hyperelasticity example.</em></p>\n",
    "</center>"
   ]
  },
  {
   "cell_type": "markdown",
   "id": "c33cf0a6",
   "metadata": {},
   "source": [
    "> Please refer to this [link](https://github.com/deepmodeling/jax-fem/blob/main/docs/source/learn/hyperelasticity/example.ipynb) to download the source file."
   ]
  },
  {
   "cell_type": "markdown",
   "id": "75641a60",
   "metadata": {},
   "source": [
    "## References"
   ]
  },
  {
   "cell_type": "markdown",
   "id": "d2a023c3",
   "metadata": {},
   "source": [
    "1. https://olddocs.fenicsproject.org/dolfin/1.5.0/python/demo/documented/hyperelasticity/python/documentation.html\n",
    "   \n",
    "2. https://en.wikipedia.org/wiki/Neo-Hookean_solid"
   ]
  }
 ],
 "metadata": {
  "language_info": {
   "name": "python"
  }
 },
 "nbformat": 4,
 "nbformat_minor": 5
}
