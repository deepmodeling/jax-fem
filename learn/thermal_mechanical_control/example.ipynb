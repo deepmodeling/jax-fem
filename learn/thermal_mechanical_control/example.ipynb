{
 "cells": [
  {
   "cell_type": "markdown",
   "id": "98a51e63-b4ab-40a8-9ac9-de730085a543",
   "metadata": {},
   "source": [
    "# Thermal mechanical control\n",
    "## Problem definition\n",
    "\n",
    "In this example, an inverse problem is considered. The design parameter is the Dirichlet boundary condition. The target of this tutorial is to use JAX-FEM to automatically find the gradient of the objective function with respect to this design variable.\n",
    "\n",
    "This inverse control problem is to consider thermo-elasticity where a temperature field $T_{\\textrm{curve}}$ applied to a curved boundary is optimized to achieve a desired mechanical deformation. Specifically, the objective is to make the **top right corner** of a 2D square plate with a circular hole undergo thermal deformation that reaches a prescribed target point.\n",
    "\n",
    "![Thermal Mechanical Control](../../_static/images/thermal_mechanical_control.png)\n",
    "\n",
    "### Governing equations\n",
    "The forward thermo-mechanical coupling problem consists of two physics:\n",
    "\n",
    "**1. Steady-state heat conduction**:\n",
    "$$\n",
    "\\begin{align*}\n",
    "   -\\nabla \\cdot (k \\nabla T) &= 0 &\\text{in}  \\quad \\Omega, \\\\\n",
    "   T &= T_{\\textrm{curve}} &\\text{on} \\quad \\Gamma_{D_1, T},  \\\\\n",
    "   T &= 0 &\\text{on} \\quad \\Gamma_{D_2, T},  \\\\\n",
    "   k \\nabla T \\cdot \\boldsymbol{n} &= 0 &\\text{on} \\quad \\Gamma_{N, T},\n",
    "\\end{align*}\n",
    "$$\n",
    "where:\n",
    "- $k$: Thermal conductivity\n",
    "- $\\Omega$: Quarter of a square plate with circular hole (2D)\n",
    "- $\\Gamma_{D_1, T}$: Curved boundary with adjustable temperature  \n",
    "- $\\Gamma_{D_2, T}$: Fixed-temperature ($T=0$) boundary  \n",
    "- $\\Gamma_{N, T}$: Thermally insulated boundary  \n",
    "\n",
    "**2. Mechanical equilibrium**:\n",
    "$$\n",
    "\\begin{align*}\n",
    "   -\\nabla \\cdot \\boldsymbol{\\sigma} &= \\boldsymbol{0} \\quad \\text{in}  \\quad \\Omega, \\\\\n",
    "   \\boldsymbol{u} &= \\boldsymbol{0} \\quad \\text{on} \\quad \\Gamma_{D,\\boldsymbol{u}},  \\\\\n",
    "   \\boldsymbol{\\sigma} \\cdot \\boldsymbol{n} &= \\boldsymbol{0} \\quad \\text{on} \\quad \\Gamma_{N,\\boldsymbol{u}},\n",
    "\\end{align*}\n",
    "$$\n",
    "with the **thermo-elastic constitutive relation**:\n",
    "$$\n",
    "\\begin{align*}\n",
    "   \\boldsymbol{\\sigma} &= \\lambda \\operatorname{tr}(\\boldsymbol{\\varepsilon}) \\boldsymbol{I} + 2\\mu \\boldsymbol{\\varepsilon} - \\kappa T \\boldsymbol{I}, \\\\\n",
    "   \\boldsymbol{\\varepsilon} &= \\frac{1}{2} \\left( \\nabla \\boldsymbol{u} + (\\nabla \\boldsymbol{u})^T \\right),\n",
    "\\end{align*}\n",
    "$$\n",
    "where:\n",
    "- $\\boldsymbol{\\varepsilon}$: Strain tensor  \n",
    "- $\\lambda, \\mu$: Lamé parameters (isotropic aluminum)  \n",
    "- $\\kappa$: Thermal expansion coefficient\n",
    "- $T$: Relative temperature change from ambient\n",
    "\n",
    "### Weak form\n",
    "Find $T$ and $\\boldsymbol{u}$ such that for any test functions $\\delta T$ and $\\delta \\boldsymbol{u}$:\n",
    "\n",
    "$$\n",
    "\\begin{align*} \n",
    "    r(T, \\boldsymbol{u};  \\delta T, \\delta \\boldsymbol{u}) = \\int_{\\Omega} k \\nabla T \\cdot \\nabla \\delta T \\, \\textrm{d}\\Omega + \\int_{\\Omega} \\boldsymbol{\\sigma} : \\nabla \\delta\\boldsymbol{u}  \\, \\textrm{d}\\Omega   = 0.\n",
    "\\end{align*}\n",
    "$$\n",
    "\n",
    "This is a **one-way coupled system** – temperature influences deformation, but deformation does not affect temperature.\n",
    "\n",
    "### Optimization problem\n",
    "The inverse control problem is formulated as the following PDE-constrained optimization:\n",
    "$$\n",
    "\\begin{align}\n",
    "    \\nonumber &\\min_{T_\\textrm{curve}}  \\Vert\\boldsymbol{u}_{\\textrm{corner}} - \\boldsymbol{u}_{\\textrm{target}}\\Vert^2 \\\\\n",
    "    & \\textrm{s.t.} \\quad r(T, \\boldsymbol{u};  \\delta T, \\delta \\boldsymbol{u})=0, \n",
    "\\end{align}\n",
    "$$\n",
    "where $\\boldsymbol{u}_{\\textrm{corner}}$ is the displacement at the top-right corner induced by boundary temperature $T_{\\textrm{curve}}$, and $\\boldsymbol{u}_{\\textrm{target}}=[0.001, -0.001]$ is the prescribed target displacement."
   ]
  },
  {
   "cell_type": "markdown",
   "id": "49bc732f-fe41-4ba0-8470-5866fc937bc6",
   "metadata": {},
   "source": [
    "## Implementation\n",
    "\n",
    "For the implementation, we first import some necessary modules."
   ]
  },
  {
   "cell_type": "code",
   "execution_count": null,
   "id": "71680f06-834b-49ab-8ff8-d3fe2f72ab84",
   "metadata": {},
   "outputs": [],
   "source": [
    "import numpy as onp\n",
    "import jax\n",
    "import jax.numpy as np\n",
    "import os\n",
    "import meshio\n",
    "import glob\n",
    "import sys\n",
    "import logging\n",
    "\n",
    "# Import JAX-FEM specific modules.\n",
    "from jax_fem.problem import Problem\n",
    "from jax_fem.solver import ad_wrapper\n",
    "from jax_fem.generate_mesh import get_meshio_cell_type, Mesh, box_mesh_gmsh \n",
    "from jax_fem import logger\n",
    "\n",
    "logger.setLevel(logging.INFO)"
   ]
  },
  {
   "cell_type": "markdown",
   "id": "5ed312e7-8c11-4dc6-aa8f-cc445b90b93f",
   "metadata": {},
   "source": [
    "### Weak form\n",
    "\n",
    "These global parameters define the fundamental mechanical and thermal properties of the material, which remain constant during the coupled calculation."
   ]
  },
  {
   "cell_type": "code",
   "execution_count": 2,
   "id": "c7af484e-39ec-479f-a4d8-0276080b4c0b",
   "metadata": {},
   "outputs": [],
   "source": [
    "# Define global parameters (Never to be changed)\n",
    "T0 = 293. # ambient temperature\n",
    "E = 70e3\n",
    "nu = 0.3\n",
    "mu = E/(2.*(1. + nu))\n",
    "lmbda = E*nu/((1+nu)*(1-2*nu)) # plane strain\n",
    "rho = 2700. # density\n",
    "alpha = 2.31e-5 # thermal expansion coefficient\n",
    "kappa = alpha*(2*mu + 3*lmbda)\n",
    "k = 237e-6 # thermal conductivity"
   ]
  },
  {
   "cell_type": "markdown",
   "id": "898d32bb-a56d-454c-93d0-b8de698710a8",
   "metadata": {},
   "source": [
    "The `custom_init` method initializes two finite element spaces: one for the displacement field ($\\boldsymbol{u}$) and one for the temperature field ($T$)."
   ]
  },
  {
   "cell_type": "code",
   "execution_count": null,
   "id": "306fb61f-a556-46a5-b9d3-292d96870d7a",
   "metadata": {},
   "outputs": [],
   "source": [
    "# Define the coupling problems.\n",
    "class ThermalMechanical(Problem):\n",
    "    def custom_init(self):\n",
    "        self.fe_u = self.fes[0]\n",
    "        self.fe_T = self.fes[1]"
   ]
  },
  {
   "cell_type": "markdown",
   "id": "45c1773e-0afd-43ca-a801-2830f9dfa23d",
   "metadata": {},
   "source": [
    "The `get_universal_kernel` method returns a universal kernel function for computing the weak form. It internally defines strain and stress functions, where the stress calculation considers thermal expansion effects."
   ]
  },
  {
   "cell_type": "code",
   "execution_count": null,
   "id": "41b206fd-940a-40a5-9ffe-28f246831392",
   "metadata": {},
   "outputs": [],
   "source": [
    "    def get_universal_kernel(self):\n",
    "        def strain(u_grad):\n",
    "            return 0.5 * (u_grad + u_grad.T)\n",
    "        \n",
    "        def stress(u_grad, T):\n",
    "            epsilon = 0.5 * (u_grad + u_grad.T)\n",
    "            sigma = lmbda * np.trace(epsilon) * np.eye(self.dim) + 2 * mu * epsilon - kappa * T * np.eye(self.dim)\n",
    "            return sigma"
   ]
  },
  {
   "cell_type": "markdown",
   "id": "e4b39c6a-83c4-40f7-b330-2dbea9f11a47",
   "metadata": {},
   "source": [
    "The `universal_kernel` function is the core of the weak form, handling element-level computations. Parameters include the flattened cell solution, coordinates, shape function gradients, Jacobian determinant weights, and test function gradients."
   ]
  },
  {
   "cell_type": "code",
   "execution_count": null,
   "id": "617464fd-0552-4ca9-8f60-fa5da2711776",
   "metadata": {},
   "outputs": [],
   "source": [
    "        def universal_kernel(cell_sol_flat, x, cell_shape_grads, cell_JxW, cell_v_grads_JxW):\n",
    "            # cell_sol_flat: (num_nodes*vec + ...,)\n",
    "            # x: (num_quads, dim)\n",
    "            # cell_shape_grads: (num_quads, num_nodes + ..., dim)\n",
    "            # cell_JxW: (num_vars, num_quads)\n",
    "            # cell_v_grads_JxW: (num_quads, num_nodes + ..., 1, dim)\n",
    "            \n",
    "            ## Split\n",
    "            # [(num_nodes, vec), ...]\n",
    "            cell_sol_list = self.unflatten_fn_dof(cell_sol_flat) \n",
    "            cell_sol_u, cell_sol_T = cell_sol_list\n",
    "            cell_shape_grads_list = [cell_shape_grads[:, self.num_nodes_cumsum[i]: self.num_nodes_cumsum[i+1], :]     \n",
    "                                     for i in range(self.num_vars)]\n",
    "            cell_shape_grads_u, cell_shape_grads_T = cell_shape_grads_list\n",
    "            cell_v_grads_JxW_list = [cell_v_grads_JxW[:, self.num_nodes_cumsum[i]: self.num_nodes_cumsum[i+1], :, :]     \n",
    "                                     for i in range(self.num_vars)]\n",
    "            cell_v_grads_JxW_u, cell_v_grads_JxW_T = cell_v_grads_JxW_list\n",
    "            cell_JxW_u, cell_JxW_T = cell_JxW[0], cell_JxW[1]\n",
    "     \n",
    "            # (1, num_nodes, vec) * (num_quads, num_nodes, 1) -> (num_quads, vec)\n",
    "            T = np.sum(cell_sol_T[None,:,:] * self.fe_T.shape_vals[:,:,None],axis=1)\n",
    "            # (num_quads, vec, dim)\n",
    "            u_grads = np.sum(cell_sol_u[None,:,:,None] * cell_shape_grads_u[:,:,None,:], axis=1)\n",
    "\n",
    "            ## Handles the term 'k * inner(grad(T_crt), grad(Q)) * dx'\n",
    "            # (1, num_nodes, vec, 1) * (num_quads, num_nodes, 1, dim) -> (num_quads, num_nodes, vec, dim) \n",
    "            # -> (num_quads, vec, dim)\n",
    "            T_grads = np.sum(cell_sol_T[None,:,:,None] * cell_shape_grads_T[:,:,None,:], axis=1)\n",
    "            # (num_quads, 1, vec, dim) * (num_quads, num_nodes, 1, dim) ->  (num_nodes, vec) \n",
    "            val3 = np.sum(k * T_grads[:,None,:,:] * cell_v_grads_JxW_T,axis=(0,-1))\n",
    "            \n",
    "            ## Handles the term 'inner(sigma, grad(v)) * dx'\n",
    "            u_physics = jax.vmap(stress)(u_grads, T)\n",
    "            # (num_quads, 1, vec, dim) * (num_quads, num_nodes, 1, dim) ->  (num_nodes, vec) \n",
    "            val4 = np.sum(u_physics[:,None,:,:] * cell_v_grads_JxW_u,axis=(0,-1))\n",
    "        \n",
    "            weak_form = [val4, val3]\n",
    "            \n",
    "            return jax.flatten_util.ravel_pytree(weak_form)[0]\n",
    "        \n",
    "        return universal_kernel"
   ]
  },
  {
   "cell_type": "markdown",
   "id": "13ea3c1d-781d-4ab4-8cc6-5d71e1871a82",
   "metadata": {},
   "source": [
    "The `set_params` method allows assigning parameters for the temperature field on the Dirichlet boundary with `vals_list`."
   ]
  },
  {
   "cell_type": "code",
   "execution_count": null,
   "id": "be02636d-66f7-4d46-9ccc-40b9ea2d14c6",
   "metadata": {},
   "outputs": [],
   "source": [
    "    def set_params(self, params):\n",
    "        self.fe_T.vals_list[0] = params"
   ]
  },
  {
   "cell_type": "markdown",
   "id": "52532330-8ca2-48fb-847e-6f0f872c653a",
   "metadata": {},
   "source": [
    "### Mesh\n",
    "\n",
    "Here we read a mesh input from a local file and use the `TRI3` element to discretize the computational domain."
   ]
  },
  {
   "cell_type": "code",
   "execution_count": 4,
   "id": "c97401c7-7a79-4221-bbff-27bc7f7ea5ef",
   "metadata": {},
   "outputs": [],
   "source": [
    "meshio_mesh = meshio.read(os.path.join(os.path.dirname(__file__), 'u.vtu'))\n",
    "ele_type = 'TRI3'\n",
    "cell_type = get_meshio_cell_type(ele_type)\n",
    "mesh = Mesh(meshio_mesh.points[:, :2], meshio_mesh.cells_dict[cell_type])"
   ]
  },
  {
   "cell_type": "markdown",
   "id": "f4d72ee5-1015-4631-9894-714f145057a6",
   "metadata": {},
   "source": [
    "### Boundary conditions\n",
    "\n",
    "Then we can define the Dirichlet boundary condition. The actual value of $T$ on the curved boundary will be updated later by the parameter $\\theta$ with the method `set_params` in the weak form definition above."
   ]
  },
  {
   "cell_type": "code",
   "execution_count": 5,
   "id": "bffed5cf-3af0-4ca0-9a77-43073596198b",
   "metadata": {},
   "outputs": [],
   "source": [
    "def right(point):\n",
    "    return np.isclose(point[0], 1., atol=1e-5)\n",
    "\n",
    "def top(point):\n",
    "    return np.isclose(point[1], 1., atol=1e-5)\n",
    "\n",
    "def hole(point):\n",
    "    R = 0.1\n",
    "    return np.isclose(point[0]**2+point[1]**2, R**2, atol=1e-3)\n",
    "\n",
    "def zero_dirichlet(point):\n",
    "    return 0.\n",
    "\n",
    "# The actual hole boundary T will always be updated by the parameters θ, not by this function.\n",
    "def T_hole(point):\n",
    "    return 0.\n",
    "\n",
    "def T_top(point):\n",
    "    return 0.\n",
    "\n",
    "def T_right(point):\n",
    "    return 0.\n",
    "\n",
    "dirichlet_bc_info_u = [[hole, hole], [0, 1], [zero_dirichlet]*2]\n",
    "dirichlet_bc_info_T = [[hole, top, right], [0, 0, 0], [T_hole, T_top, T_right]]"
   ]
  },
  {
   "cell_type": "markdown",
   "id": "f3dbf85d-eca3-4a1c-802f-b7b877a37d99",
   "metadata": {},
   "source": [
    "### Problem\n",
    "\n",
    "We have completed all the preliminary preparations for the problem. So, we can proceed to create an instance of our problem."
   ]
  },
  {
   "cell_type": "code",
   "execution_count": null,
   "id": "995d05a6-58cf-4827-8a69-ea333b5ece74",
   "metadata": {},
   "outputs": [],
   "source": [
    "problem = ThermalMechanical([mesh, mesh], vec=[2, 1], dim=2, ele_type=[ele_type, ele_type], gauss_order=[1, 1],\n",
    "                                  dirichlet_bc_info=[dirichlet_bc_info_u, dirichlet_bc_info_T])"
   ]
  },
  {
   "cell_type": "markdown",
   "id": "1c2cbc82-8106-47c7-ba75-48460007c53f",
   "metadata": {},
   "source": [
    "### Solver\n",
    "\n",
    "Then we can wrap the forward problem with the function `ad_wrapper`, which enables efficient gradient computation for our inverse problem."
   ]
  },
  {
   "cell_type": "code",
   "execution_count": 7,
   "id": "a81b0ac9-1a37-4e46-b486-dd7350b482ea",
   "metadata": {},
   "outputs": [],
   "source": [
    "fwd_pred = ad_wrapper(problem)"
   ]
  },
  {
   "cell_type": "markdown",
   "id": "45845284-834b-4a48-9c0f-97296d78e128",
   "metadata": {},
   "source": [
    "Then follows the definition of our objective funtion."
   ]
  },
  {
   "cell_type": "code",
   "execution_count": 8,
   "id": "61628b6d-aca3-4681-9a1f-43c1d0ab9e6d",
   "metadata": {},
   "outputs": [],
   "source": [
    "corner_node_id = 3456 # Top right corner nodal index, obtained from visualization in Paraview\n",
    "def J(θ):\n",
    "    u_pred = fwd_pred(θ)\n",
    "    corner_disp_pred = u_pred[0][corner_node_id]\n",
    "    corner_disp_goal = np.array([0.001, -0.001])\n",
    "    error = np.sum(((corner_disp_pred - corner_disp_goal)**2))\n",
    "    return error"
   ]
  },
  {
   "cell_type": "markdown",
   "id": "7ae3af9d-05fb-45e7-9290-86772e5496cd",
   "metadata": {},
   "source": [
    "To verify the accuracy of gradients computed using `jax.grad`, we employ the finite difference method."
   ]
  },
  {
   "cell_type": "code",
   "execution_count": null,
   "id": "2f363d70-8db4-4a8d-978f-4af3de97d1de",
   "metadata": {},
   "outputs": [],
   "source": [
    "hole_boundary_node_inds = problem.fes[1].node_inds_list[0]\n",
    "hole_boundary_nodes = mesh.points[hole_boundary_node_inds]\n",
    "num_hole_boundary_nodes = len(hole_boundary_node_inds)\n",
    "print(f\"num_hole_boundary_nodes = {num_hole_boundary_nodes}\")\n",
    "\n",
    "θ_ini = 1e3 *np.ones(num_hole_boundary_nodes)\n",
    "grad_value = jax.grad(J)(θ_ini)\n",
    "\n",
    "h = 1e-1\n",
    "θ_plus = θ_ini.at[10].set((1+h)*θ_ini[10])\n",
    "θ_minus = θ_ini.at[10].set((1-h)*θ_ini[10])\n",
    "dx_fd_10 = (J(θ_plus) - J(θ_minus))/(2*h*θ_ini[10])\n",
    "\n",
    "print(f\"\\n grad_value[10] = {grad_value[10]}, dx_fd_10 = {dx_fd_10}\")"
   ]
  },
  {
   "cell_type": "markdown",
   "id": "5f7bcd71-8b83-4773-8371-0724c40ea3f1",
   "metadata": {},
   "source": [
    "The computation results are shown as follows:"
   ]
  },
  {
   "cell_type": "code",
   "execution_count": null,
   "id": "bfc7af84-d928-4861-ba6f-a98702d8f49c",
   "metadata": {},
   "outputs": [],
   "source": [
    "grad_value[10] = 6.960273952781062e-09, dx_fd_10 = 6.960013287569166e-09"
   ]
  },
  {
   "cell_type": "markdown",
   "id": "2f5ed3f3",
   "metadata": {},
   "source": [
    "> Please refer to this [link](https://github.com/deepmodeling/jax-fem/blob/main/docs/source/learn/thermal_mechanical_control/example.ipynb) to download the source file."
   ]
  }
 ],
 "metadata": {
  "language_info": {
   "name": "python"
  }
 },
 "nbformat": 4,
 "nbformat_minor": 5
}
