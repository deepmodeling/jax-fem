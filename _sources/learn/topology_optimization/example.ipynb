{
 "cells": [
  {
   "cell_type": "markdown",
   "id": "c6f8f254-f2f3-4b4e-a101-df8a3d95375b",
   "metadata": {},
   "source": [
    "# Topology optimization\n"
   ]
  },
  {
   "cell_type": "markdown",
   "id": "cee360c5",
   "metadata": {},
   "source": [
    "## Problem definition"
   ]
  },
  {
   "cell_type": "markdown",
   "id": "28693f0e",
   "metadata": {},
   "source": [
    "We study compliance minimization of a 2D cantilever beam made of a linear elastic material. Following the classic Solid Isotropic Material with Penalization (SIMP) [1] method, the governing PDE is \n",
    "\n",
    "$$\n",
    "\\begin{align*} \n",
    "    -\\nabla \\cdot (\\boldsymbol{\\sigma}(\\nabla \\boldsymbol{u}, \\theta)) = \\boldsymbol{0} & \\quad \\textrm{in}  \\, \\, \\Omega, \\nonumber \\\\\n",
    "    \\boldsymbol{u} = \\boldsymbol{0} &  \\quad\\textrm{on} \\, \\, \\Gamma_D,  \\nonumber \\\\\n",
    "    \\boldsymbol{\\sigma} \\cdot \\boldsymbol{n} =  \\boldsymbol{t} & \\quad \\textrm{on} \\, \\, \\Gamma_N,\n",
    "\\end{align*}\n",
    "$$\n",
    "\n",
    "where $\\boldsymbol{\\sigma}$ is parametrized with $\\theta(\\boldsymbol{x}) \\in [0, 1]$, which is the spatially varying design density field. Specifically, we set the Young's modulus $E=E_{\\textrm{min}} + \\theta^p (E_{\\textrm{max}} - E_{\\textrm{min}})$ with $p$ being the penalty exponent. \n",
    "\n",
    "The weak form corresponding to the governing PDE states that for any test function $\\boldsymbol{v}$, the following equation must hold:\n",
    "\n",
    "$$\n",
    "\\begin{align*} \n",
    "\\int_{\\Omega}  \\boldsymbol{\\sigma} :  \\nabla \\boldsymbol{v} \\textrm{ d} \\Omega - \\int_{\\Gamma_N} \\boldsymbol{t} \\cdot  \\boldsymbol{v} \\textrm{ d} \\Gamma = 0.\n",
    "\\end{align*}\n",
    "$$\n",
    "\n",
    "The compliance minimization problem states that\n",
    "\n",
    "$$\n",
    "\\begin{align*} \n",
    "    \\min_{\\boldsymbol{U}\\in\\mathbb{R}^{N}, \\boldsymbol{\\Theta}\\in\\mathbb{R}^{M}} J(\\boldsymbol{U},\\boldsymbol{\\Theta}) =  \\int_{\\Gamma_N} \\boldsymbol{u}^h \\cdot \\boldsymbol{t}  \\\\\n",
    "    \\textrm{s.t.} \\quad \\boldsymbol{C}(\\boldsymbol{U}, \\boldsymbol{\\Theta}) = \\textbf{0}, \n",
    "\\end{align*}\n",
    "$$\n",
    "\n",
    "where $\\boldsymbol{u}^h(\\boldsymbol{x}) = \\sum_k \\boldsymbol{U}[k] \\boldsymbol{\\phi}_k(\\boldsymbol{x})$  is the finite element solution field constructed with the solution vector $\\boldsymbol{U}$. The design vector $\\boldsymbol{\\Theta}$ is the discretized version of $\\theta$, and the constraint equation $\\boldsymbol{C}(\\boldsymbol{U}, \\boldsymbol{\\Theta}) = \\textbf{0}$ corresponds to the discretized weak form. The topology optimization problem is therefore a typical **PDE-constrained optimization** problem. "
   ]
  },
  {
   "cell_type": "markdown",
   "id": "c27f1640",
   "metadata": {},
   "source": [
    "## Implementation"
   ]
  },
  {
   "cell_type": "markdown",
   "id": "081dd4bf",
   "metadata": {},
   "source": [
    "As one of its salient features, JAX-FEM allows users to solve such problems in a handy way. In this example, the external `MMA` optimizer [2] is adopted. The original optimization problem is reformulated in the following reduced form:\n",
    "\n",
    "$$\n",
    "\\begin{align*} \n",
    "\\nonumber \\min_{\\boldsymbol{\\Theta}\\in\\mathbb{R}^{M}} \\widehat{J}(\\boldsymbol{\\Theta}) = J(\\boldsymbol{U}(\\boldsymbol{\\Theta}),\\boldsymbol{\\Theta}).\n",
    "\\end{align*}\n",
    "$$\n",
    "\n",
    "Note that $\\boldsymbol{U}$ is implicitly a function of $\\boldsymbol{\\Theta}$. To call the `MMA` optimizer, we need to provide the total derivative $\\frac{\\textrm{d}\\widehat{J}}{\\textrm{d}\\boldsymbol{\\Theta}}$, which is computed automatically with JAX-FEM. The adjoint method is used under the hood. \n",
    "\n",
    "The `MMA` optimizer accepts constraints. For example, we may want to pose the volume constraint such that the material used for topology optimization cannot exceed a threshold value. Then the previous optimization problem is modified as the following\n",
    "\n",
    "$$\n",
    "\\begin{align*} \n",
    "\\min_{\\boldsymbol{\\Theta}\\in\\mathbb{R}^{M}} \\widehat{J}(\\boldsymbol{\\Theta}) = J(\\boldsymbol{U}(\\boldsymbol{\\Theta}),\\boldsymbol{\\Theta}) \\\\\n",
    "\\textrm{s.t.} \\quad g(\\boldsymbol{\\Theta}) = \\frac{\\int_{\\Omega} \\theta \\textrm{d}\\Omega}{\\int_{\\Omega} \\textrm{d}\\Omega }- \\bar{v}  \\leq 0,\n",
    "\\end{align*}\n",
    "$$\n",
    "\n",
    "where $\\bar{v}$ is the upper bound of volume ratio.  In this case, we need to pass $\\frac{\\textrm{d}g}{\\textrm{d}\\boldsymbol{\\Theta}}$ to the `MMA` solver as the necessary information to handle such constraint. \n",
    "\n",
    "> In certain scenario, constraint function may depend not only on the design variable, but also on the state variable, i.e., $g(\\boldsymbol{U},\\boldsymbol{\\Theta})$. For example, limiting the maximum von Mises stress globally over the domain could be such a constraint. This will be handled just fine with JAX-FEM. You may check our paper [3] for more details or the more advanced application examples in our repo.\n",
    "\n",
    "We also want to point to an excellent educational paper on using **JAX** for topology optimization for your further information [4]."
   ]
  },
  {
   "cell_type": "markdown",
   "id": "eb27a9d8",
   "metadata": {},
   "source": [
    "For the implementation, we first import some necessary modules and do some cleaning work："
   ]
  },
  {
   "cell_type": "code",
   "execution_count": null,
   "id": "0707f27c-50d9-4c3d-9474-302bee4b55e1",
   "metadata": {},
   "outputs": [],
   "source": [
    "# Import some useful modules.\n",
    "import numpy as onp\n",
    "import jax\n",
    "import jax.numpy as np\n",
    "import os\n",
    "import glob\n",
    "import matplotlib.pyplot as plt\n",
    "\n",
    "# Import JAX-FEM specific modules.\n",
    "from jax_fem.problem import Problem\n",
    "from jax_fem.solver import solver, ad_wrapper\n",
    "from jax_fem.utils import save_sol\n",
    "from jax_fem.generate_mesh import get_meshio_cell_type, Mesh, rectangle_mesh\n",
    "from jax_fem.mma import optimize\n",
    "\n",
    "# Do some cleaning work. Remove old solution files.\n",
    "data_path = os.path.join(os.path.dirname(__file__), 'data') \n",
    "files = glob.glob(os.path.join(data_path, f'vtk/*'))\n",
    "for f in files:\n",
    "    os.remove(f)"
   ]
  },
  {
   "cell_type": "markdown",
   "id": "7a55875d",
   "metadata": {},
   "source": [
    "### Weak form"
   ]
  },
  {
   "cell_type": "markdown",
   "id": "de4add0a",
   "metadata": {},
   "source": [
    "The definition of the plane stress problem is shown as follows:"
   ]
  },
  {
   "cell_type": "code",
   "execution_count": null,
   "id": "391675d7",
   "metadata": {},
   "outputs": [],
   "source": [
    "# Define constitutive relationship. \n",
    "# Generally, JAX-FEM solves -div.(f(u_grad,alpha_1,alpha_2,...,alpha_N)) = b. \n",
    "# Here, we have f(u_grad,alpha_1,alpha_2,...,alpha_N) = sigma(u_grad, theta),\n",
    "# reflected by the function 'stress'. The functions 'custom_init'and 'set_params' \n",
    "# override base class methods. In particular, set_params sets the design variable theta.\n",
    "class Elasticity(Problem):\n",
    "    def custom_init(self):\n",
    "        # Override base class method.\n",
    "        # Set up 'self.fe.flex_inds' so that location-specific TO can be realized.\n",
    "        self.fe = self.fes[0]\n",
    "        self.fe.flex_inds = np.arange(len(self.fe.cells))\n",
    "\n",
    "    def get_tensor_map(self):\n",
    "        def stress(u_grad, theta):\n",
    "            # Plane stress assumption\n",
    "            # Reference: https://en.wikipedia.org/wiki/Hooke%27s_law\n",
    "            Emax = 70.e3\n",
    "            Emin = 1e-3*Emax\n",
    "            nu = 0.3\n",
    "            penal = 3.\n",
    "            E = Emin + (Emax - Emin)*theta[0]**penal\n",
    "            epsilon = 0.5*(u_grad + u_grad.T)\n",
    "            eps11 = epsilon[0, 0]\n",
    "            eps22 = epsilon[1, 1]\n",
    "            eps12 = epsilon[0, 1]\n",
    "            sig11 = E/(1 + nu)/(1 - nu)*(eps11 + nu*eps22) \n",
    "            sig22 = E/(1 + nu)/(1 - nu)*(nu*eps11 + eps22)\n",
    "            sig12 = E/(1 + nu)*eps12\n",
    "            sigma = np.array([[sig11, sig12], [sig12, sig22]])\n",
    "            return sigma\n",
    "        return stress\n",
    "\n",
    "    def get_surface_maps(self):\n",
    "        def surface_map(u, x):\n",
    "            return np.array([0., 100.])\n",
    "        return [surface_map]\n",
    "\n",
    "    def set_params(self, params):\n",
    "        # Override base class method.\n",
    "        full_params = np.ones((self.fe.num_cells, params.shape[1]))\n",
    "        full_params = full_params.at[self.fe.flex_inds].set(params)\n",
    "        thetas = np.repeat(full_params[:, None, :], self.fe.num_quads, axis=1)\n",
    "        self.full_params = full_params\n",
    "        self.internal_vars = [thetas]\n",
    "\n",
    "    def compute_compliance(self, sol):\n",
    "        # Surface integral\n",
    "        boundary_inds = self.boundary_inds_list[0]\n",
    "        _, nanson_scale = self.fe.get_face_shape_grads(boundary_inds)\n",
    "        # (num_selected_faces, 1, num_nodes, vec) * # (num_selected_faces, num_face_quads, num_nodes, 1)    \n",
    "        u_face = sol[self.fe.cells][boundary_inds[:, 0]][:, None, :, :] * self.fe.face_shape_vals[boundary_inds[:, 1]][:, :, :, None]\n",
    "        u_face = np.sum(u_face, axis=2) # (num_selected_faces, num_face_quads, vec)\n",
    "        # (num_selected_faces, num_face_quads, dim)\n",
    "        subset_quad_points = self.physical_surface_quad_points[0]\n",
    "        neumann_fn = self.get_surface_maps()[0]\n",
    "        traction = -jax.vmap(jax.vmap(neumann_fn))(u_face, subset_quad_points) # (num_selected_faces, num_face_quads, vec)\n",
    "        val = np.sum(traction * u_face * nanson_scale[:, :, None])\n",
    "        return val"
   ]
  },
  {
   "cell_type": "markdown",
   "id": "91206db8",
   "metadata": {},
   "source": [
    "where the function `set_params` and `compute_compliance` are used to input design parameters and compute the objective function, respectively."
   ]
  },
  {
   "cell_type": "markdown",
   "id": "8333c239",
   "metadata": {},
   "source": [
    "### Mesh"
   ]
  },
  {
   "cell_type": "markdown",
   "id": "9875edb9",
   "metadata": {},
   "source": [
    "Here we use the `QUAD4` element to discretize the computational domain:"
   ]
  },
  {
   "cell_type": "code",
   "execution_count": null,
   "id": "d0b7b18b",
   "metadata": {},
   "outputs": [],
   "source": [
    "# Specify mesh-related information. We use first-order quadrilateral element.\n",
    "ele_type = 'QUAD4'\n",
    "cell_type = get_meshio_cell_type(ele_type)\n",
    "Lx, Ly = 60., 30.\n",
    "meshio_mesh = rectangle_mesh(Nx=60, Ny=30, domain_x=Lx, domain_y=Ly)\n",
    "mesh = Mesh(meshio_mesh.points, meshio_mesh.cells_dict[cell_type])"
   ]
  },
  {
   "cell_type": "markdown",
   "id": "c8c183c8",
   "metadata": {},
   "source": [
    "### Boundary conditions"
   ]
  },
  {
   "cell_type": "markdown",
   "id": "934f5bf0",
   "metadata": {},
   "source": [
    "Then we can define the boundary conditions, where the left-side ($x=0$) is fixed and the bottom part of the right-side ($x=L_x$) is applied with tractions."
   ]
  },
  {
   "cell_type": "code",
   "execution_count": null,
   "id": "96e5294d",
   "metadata": {},
   "outputs": [],
   "source": [
    "# Define boundary conditions and values.\n",
    "def fixed_location(point):\n",
    "    return np.isclose(point[0], 0., atol=1e-5)\n",
    "    \n",
    "def load_location(point):\n",
    "    return np.logical_and(np.isclose(point[0], Lx, atol=1e-5), np.isclose(point[1], 0., atol=0.1*Ly + 1e-5))\n",
    "\n",
    "def dirichlet_val(point):\n",
    "    return 0.\n",
    "\n",
    "dirichlet_bc_info = [[fixed_location]*2, [0, 1], [dirichlet_val]*2]\n",
    "\n",
    "location_fns = [load_location]"
   ]
  },
  {
   "cell_type": "markdown",
   "id": "3df12644",
   "metadata": {},
   "source": [
    "### Problem"
   ]
  },
  {
   "cell_type": "markdown",
   "id": "25cfcbd2",
   "metadata": {},
   "source": [
    "We have completed all the preliminary preparations for the problem. Then we can proceed to create an instance of our BVP:"
   ]
  },
  {
   "cell_type": "code",
   "execution_count": null,
   "id": "200b598a",
   "metadata": {},
   "outputs": [],
   "source": [
    "# Define forward problem.\n",
    "problem = Elasticity(mesh, vec=2, dim=2, ele_type=ele_type, dirichlet_bc_info=dirichlet_bc_info, location_fns=location_fns)"
   ]
  },
  {
   "cell_type": "markdown",
   "id": "800ec3e5",
   "metadata": {},
   "source": [
    "### Solver"
   ]
  },
  {
   "cell_type": "markdown",
   "id": "05339f06",
   "metadata": {},
   "source": [
    "Similarly, we use the `ad_wrapper` to enable the differentiability of the solver and use the `UMFPACK` solver wrapped in `scipy` to solve the linear system involved in both the forward and inverse propagation."
   ]
  },
  {
   "cell_type": "code",
   "execution_count": null,
   "id": "c89a2438",
   "metadata": {},
   "outputs": [],
   "source": [
    "# Apply the automatic differentiation wrapper. \n",
    "# This is a critical step that makes the problem solver differentiable.\n",
    "fwd_pred = ad_wrapper(problem, solver_options={'umfpack_solver': {}}, adjoint_solver_options={'umfpack_solver': {}})"
   ]
  },
  {
   "cell_type": "markdown",
   "id": "960b434e",
   "metadata": {},
   "source": [
    "### Optimization"
   ]
  },
  {
   "cell_type": "markdown",
   "id": "3898604a",
   "metadata": {},
   "source": [
    "For the optimization task, we first define the objective function and create handle functions for the `MMA` solver:"
   ]
  },
  {
   "cell_type": "code",
   "execution_count": null,
   "id": "132aee58",
   "metadata": {},
   "outputs": [],
   "source": [
    "# Define the objective function 'J_total(theta)'. \n",
    "# In the following, 'sol = fwd_pred(params)' basically says U = U(theta).\n",
    "def J_total(params):\n",
    "    # J(u(theta), theta)   \n",
    "    sol_list = fwd_pred(params)\n",
    "    compliance = problem.compute_compliance(sol_list[0])\n",
    "    return compliance\n",
    "\n",
    "\n",
    "# Output solution files to local disk\n",
    "outputs = []\n",
    "def output_sol(params, obj_val):\n",
    "    print(f\"\\nOutput solution - need to solve the forward problem again...\")\n",
    "    sol_list = fwd_pred(params)\n",
    "    sol = sol_list[0]\n",
    "    vtu_path = os.path.join(data_path, f'vtk/sol_{output_sol.counter:03d}.vtu')\n",
    "    save_sol(problem.fe, np.hstack((sol, np.zeros((len(sol), 1)))), vtu_path, cell_infos=[('theta', problem.full_params[:, 0])])\n",
    "    print(f\"compliance = {obj_val}\")\n",
    "    outputs.append(obj_val)\n",
    "    output_sol.counter += 1\n",
    "output_sol.counter = 0\n",
    "\n",
    "\n",
    "# Prepare J_total and dJ/d(theta) that are required by the MMA optimizer.\n",
    "def objectiveHandle(rho):\n",
    "    # MMA solver requires (J, dJ) as inputs\n",
    "    # J has shape ()\n",
    "    # dJ has shape (...) = rho.shape\n",
    "    J, dJ = jax.value_and_grad(J_total)(rho)\n",
    "    output_sol(rho, J)\n",
    "    return J, dJ\n",
    "\n",
    "\n",
    "# Prepare g and dg/d(theta) that are required by the MMA optimizer.\n",
    "def consHandle(rho, epoch):\n",
    "    # MMA solver requires (c, dc) as inputs\n",
    "    # c should have shape (numConstraints,)\n",
    "    # dc should have shape (numConstraints, ...)\n",
    "    def computeGlobalVolumeConstraint(rho):\n",
    "        g = np.mean(rho)/vf - 1.\n",
    "        return g\n",
    "    c, gradc = jax.value_and_grad(computeGlobalVolumeConstraint)(rho)\n",
    "    c, gradc = c.reshape((1,)), gradc[None, ...]\n",
    "    return c, gradc"
   ]
  },
  {
   "cell_type": "markdown",
   "id": "1a2bb8e9",
   "metadata": {},
   "source": [
    "Then we can call the `jax_fem.mma.optimize` to solve the defined optimization problem:"
   ]
  },
  {
   "cell_type": "code",
   "execution_count": null,
   "id": "55cda71d",
   "metadata": {},
   "outputs": [],
   "source": [
    "# Finalize the details of the MMA optimizer, and solve the TO problem.\n",
    "vf = 0.5\n",
    "optimizationParams = {'maxIters':51, 'movelimit':0.1}\n",
    "rho_ini = vf*np.ones((len(problem.fe.flex_inds), 1))\n",
    "numConstraints = 1\n",
    "optimize(problem.fe, rho_ini, optimizationParams, objectiveHandle, consHandle, numConstraints)\n",
    "print(f\"As a reminder, compliance = {J_total(np.ones((len(problem.fe.flex_inds), 1)))} for full material\")"
   ]
  },
  {
   "cell_type": "markdown",
   "id": "ac1306f0",
   "metadata": {},
   "source": [
    "### Postprocessing"
   ]
  },
  {
   "cell_type": "markdown",
   "id": "eb8bca2b",
   "metadata": {},
   "source": [
    "We then plot the objective function value in the optimization:"
   ]
  },
  {
   "cell_type": "code",
   "execution_count": null,
   "id": "c8c77cea",
   "metadata": {},
   "outputs": [],
   "source": [
    "# Plot the optimization results.\n",
    "obj = onp.array(outputs)\n",
    "plt.figure(figsize=(10, 8))\n",
    "plt.plot(onp.arange(len(obj)) + 1, obj, linestyle='-', linewidth=2, color='black')\n",
    "plt.xlabel(r\"Optimization step\", fontsize=20)\n",
    "plt.ylabel(r\"Objective value\", fontsize=20)\n",
    "plt.tick_params(labelsize=20)\n",
    "plt.tick_params(labelsize=20)\n",
    "plt.show()"
   ]
  },
  {
   "cell_type": "markdown",
   "id": "d0269436",
   "metadata": {},
   "source": [
    "The change of the cell density can also be visualized by checking the generated VTK files (See the previous defined `output_sol`) using ParaView"
   ]
  },
  {
   "cell_type": "markdown",
   "id": "770eff8a",
   "metadata": {},
   "source": [
    "<center>\n",
    "  <img src=\"../../_static/images/topo_rho.gif\" width=\"400\" />\n",
    "  <p><em>Topology optimization iterations.</em></p>\n",
    "</center>\n",
    "\n",
    "<center>\n",
    "  <img src=\"../../_static/images/topo_curve.png\" width=\"400\" />\n",
    "  <p><em>Objective funtion values.</em></p>\n",
    "</center>"
   ]
  },
  {
   "cell_type": "markdown",
   "id": "e58f8b52",
   "metadata": {},
   "source": [
    "> Please refer to this [link](https://github.com/deepmodeling/jax-fem/blob/main/docs/source/learn/topology_optimization/example.ipynb) to download the source file."
   ]
  },
  {
   "cell_type": "markdown",
   "id": "af78244e",
   "metadata": {},
   "source": [
    "## References"
   ]
  },
  {
   "cell_type": "markdown",
   "id": "e75f2374",
   "metadata": {},
   "source": [
    "1. Bendsoe, Martin Philip, and Ole Sigmund. *Topology optimization: theory, methods, and applications*. Springer Science & Business Media, 2003.\n",
    "\n",
    "2. Svanberg, Krister. \"The method of moving asymptotes—a new method for structural optimization.\" *International journal for numerical methods in engineering* 24.2 (1987): 359-373.\n",
    "\n",
    "3. Xue, Tianju, et al. \"JAX-FEM: A differentiable GPU-accelerated 3D finite element solver for automatic inverse design and mechanistic data science.\" *Computer Physics Communications* (2023): 108802.\n",
    "\n",
    "4. Chandrasekhar, Aaditya, Saketh Sridhara, and Krishnan Suresh. \"Auto: a framework for automatic differentiation in topology optimization.\" *Structural and Multidisciplinary Optimization* 64.6 (2021): 4355-4365."
   ]
  }
 ],
 "metadata": {
  "language_info": {
   "name": "python"
  }
 },
 "nbformat": 4,
 "nbformat_minor": 5
}
