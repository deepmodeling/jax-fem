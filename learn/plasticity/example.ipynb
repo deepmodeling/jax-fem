{
 "cells": [
  {
   "cell_type": "markdown",
   "id": "f01f2d8f",
   "metadata": {},
   "source": [
    "# Plasticity"
   ]
  },
  {
   "cell_type": "markdown",
   "id": "bb0e755b",
   "metadata": {},
   "source": [
    "## Problem definition"
   ]
  },
  {
   "cell_type": "markdown",
   "id": "a95c8838",
   "metadata": {},
   "source": [
    "Elastoplastic materials, such as metals and engineering alloys, exhibit irreversible deformation behavior characterized by elastic-plastic coupling and path-dependent stress-strain relationships beyond the yield threshold. This example demostrate how to solve the J2 plasticity model [1] using JAX-FEM, with particular focus on the return mapping algorithm and incremental loading schemes that capture the nonlinear material response under displacement-controlled loading conditions."
   ]
  },
  {
   "cell_type": "markdown",
   "id": "ab720575",
   "metadata": {},
   "source": [
    "For perfect J2-plasticity model [1], we assume that the total strain $\\boldsymbol{\\varepsilon}^{n-1}$ and stress $\\boldsymbol{\\sigma}^{n-1}$ from the previous loading step are known, and the problem states that find the displacement field $\\boldsymbol{u}^n$ at the current loading step such that\n",
    "\n",
    "$$\n",
    "-\\nabla \\cdot \\left( \\boldsymbol{\\sigma}^n(\\nabla \\boldsymbol{u}^n, \\boldsymbol{\\varepsilon}^{n-1}, \\boldsymbol{\\sigma}^{n-1}) \\right) = \\boldsymbol{b} \\quad \\text{in } \\Omega,\n",
    "$$\n",
    "\n",
    "$$\n",
    "\\boldsymbol{u}^n = \\boldsymbol{u}_D \\quad \\text{on } \\Gamma_D,\n",
    "$$\n",
    "\n",
    "$$\n",
    "\\boldsymbol{\\sigma}^n \\cdot \\boldsymbol{n} = \\boldsymbol{t} \\quad \\text{on } \\Gamma_N.\n",
    "$$\n",
    "\n",
    "The weak form gives\n",
    "\n",
    "$$\n",
    "\\int_\\Omega \\boldsymbol{\\sigma}^n : \\nabla \\boldsymbol{v} \\, dx = \\int_\\Omega \\boldsymbol{b} \\cdot \\boldsymbol{v} \\, dx + \\int_{\\Gamma_N} \\boldsymbol{t} \\cdot \\boldsymbol{v} \\, ds.\n",
    "$$\n",
    "\n",
    "In this example, we consider a displacement-controlled uniaxial tensile loading condition. We assume free traction ($\\boldsymbol{t} = [0,0,0]$) and ignore body force ($\\boldsymbol{b} = [0,0,0]$). We assume quasi-static loadings from 0 to 0.1 mm and then unload from 0.1 mm to 0."
   ]
  },
  {
   "cell_type": "markdown",
   "id": "6216bbbf",
   "metadata": {},
   "source": [
    "The stress $\\boldsymbol{\\sigma}^n$ is defined with the following relationships:\n",
    "\n",
    "$$\n",
    "\\boldsymbol{\\sigma}_{\\text{trial}} = \\boldsymbol{\\sigma}^{n-1} + \\Delta\\boldsymbol{\\sigma},\n",
    "$$\n",
    "\n",
    "$$\n",
    "\\Delta\\boldsymbol{\\sigma} = \\lambda \\text{tr}(\\Delta\\boldsymbol{\\varepsilon})\\boldsymbol{I} + 2\\mu \\Delta\\boldsymbol{\\varepsilon},\n",
    "$$\n",
    "\n",
    "$$\n",
    "\\Delta\\boldsymbol{\\varepsilon} = \\boldsymbol{\\varepsilon}^n - \\boldsymbol{\\varepsilon}^{n-1} = \\frac{1}{2}\\left[ \\nabla \\boldsymbol{u}^n + (\\nabla \\boldsymbol{u}^n)^T \\right] - \\boldsymbol{\\varepsilon}^{n-1},\n",
    "$$\n",
    "\n",
    "$$\n",
    "\\boldsymbol{s} = \\boldsymbol{\\sigma}_{\\text{trial}} - \\frac{1}{3}\\text{tr}(\\boldsymbol{\\sigma}_{\\text{trial}})\\boldsymbol{I},\n",
    "$$\n",
    "\n",
    "$$\n",
    "s = \\sqrt{\\frac{3}{2}\\boldsymbol{s}:\\boldsymbol{s}},\n",
    "$$\n",
    "\n",
    "$$\n",
    "f_{\\text{yield}} = s - \\sigma_{\\text{yield}},\n",
    "$$\n",
    "\n",
    "$$\n",
    "\\boldsymbol{\\sigma}^n = \\boldsymbol{\\sigma}_{\\text{trial}} - \\frac{\\boldsymbol{s}}{s}\\langle f_{\\text{yield}} \\rangle_+,\n",
    "$$\n",
    "\n",
    "where $\\boldsymbol{\\sigma}_{\\text{trial}}$ is the elastic trial stress, $\\boldsymbol{s}$ is the deviatoric part of $\\boldsymbol{\\sigma}_{\\text{trial}}$, $f_{\\text{yield}}$ is the yield function, $\\sigma_{\\text{yield}}$ is the yield strength, $\\langle x \\rangle_+ := \\frac{1}{2}(x + |x|)$ is the ramp function, and $\\boldsymbol{\\sigma}^n$ is the stress at the current loading step."
   ]
  },
  {
   "cell_type": "markdown",
   "id": "e0791683",
   "metadata": {},
   "source": [
    "## Implementation"
   ]
  },
  {
   "cell_type": "markdown",
   "id": "c5d2ca73",
   "metadata": {},
   "source": [
    "First, we need to import some useful modules and jax_fem specific modules："
   ]
  },
  {
   "cell_type": "code",
   "execution_count": null,
   "id": "d91bc55f",
   "metadata": {},
   "outputs": [],
   "source": [
    "# Import some useful modules.\n",
    "import jax\n",
    "import jax.numpy as np\n",
    "import os\n",
    "import matplotlib.pyplot as plt\n",
    "\n",
    "\n",
    "# Import JAX-FEM specific modules.\n",
    "from jax_fem.problem import Problem\n",
    "from jax_fem.solver import solver\n",
    "from jax_fem.utils import save_sol\n",
    "from jax_fem.generate_mesh import box_mesh_gmsh, get_meshio_cell_type, Mesh"
   ]
  },
  {
   "cell_type": "markdown",
   "id": "a9c2fd6f",
   "metadata": {},
   "source": [
    "### Weak form"
   ]
  },
  {
   "cell_type": "markdown",
   "id": "f0e2906f",
   "metadata": {},
   "source": [
    "In this J2 plasticity example, we use the **Laplace Kernel** to handle elastoplastic constitutive relations by overriding the `get_tensor_map` method to define the stress return mapping algorithm that enforces the von Mises yield criterion. \n",
    "\n",
    "The `custom_init()` method initializes internal variables `self.internal_vars = [self.sigmas_old, self.epsilons_old]` to store historical stress and strain states required for path-dependent plasticity computations. \n",
    "\n",
    "The `get_maps()` method implements the plasticity algorithms: `strain(u_grad)` computes the strain tensor from displacement gradients, while `stress_return_map(u_grad, sigma_old, epsilon_old)` performs the return mapping to project trial stresses back to the yield surface. The `update_stress_strain()` method advances the internal state variables after each loading increment, ensuring proper tracking of plastic deformation history essential for incremental plasticity formulations.\n",
    "\n",
    "> It should be particularly noted that `stress_return_map(u_grad, sigma_old, epsilon_old)` takes two internal variables `sigma_old` and `epsilon_old`, and they MUST be correspondingly defined (and updated) using `self.internal_vars = [self.sigmas_old, self.epsilons_old]`. Otherwise, JAX-FEM will NOT know that there are two internal variables needed."
   ]
  },
  {
   "cell_type": "code",
   "execution_count": null,
   "id": "82dd37e5",
   "metadata": {},
   "outputs": [],
   "source": [
    "# Define constitutive relationship.\n",
    "class Plasticity(Problem):\n",
    "    # The function 'get_tensor_map' overrides base class method. Generally, JAX-FEM \n",
    "    # solves -div(f(u_grad,alpha_1,alpha_2,...,alpha_N)) = b. Here, we have \n",
    "    # f(u_grad,alpha_1,alpha_2,...,alpha_N) = sigma_crt(u_crt_grad, epsilon_old, sigma_old),\n",
    "    # reflected by the function 'stress_return_map'\n",
    "    def custom_init(self):\n",
    "        # Override base class method.\n",
    "        # Initializing total strain and stress.\n",
    "        self.fe = self.fes[0]\n",
    "        self.epsilons_old = np.zeros((len(self.fe.cells), self.fe.num_quads, self.fe.vec, self.dim))\n",
    "        self.sigmas_old = np.zeros_like(self.epsilons_old)\n",
    "        self.internal_vars = [self.sigmas_old, self.epsilons_old]\n",
    "\n",
    "    def get_tensor_map(self):\n",
    "        # Override base class method.\n",
    "        _, stress_return_map = self.get_maps()\n",
    "        return stress_return_map\n",
    "\n",
    "    def get_maps(self):\n",
    "        def safe_sqrt(x):  \n",
    "            # np.sqrt is not differentiable at 0\n",
    "            safe_x = np.where(x > 0., np.sqrt(x), 0.)\n",
    "            return safe_x\n",
    "\n",
    "        def safe_divide(x, y):\n",
    "            return np.where(y == 0., 0., x/y)\n",
    "\n",
    "        def strain(u_grad):\n",
    "            epsilon = 0.5*(u_grad + u_grad.T)\n",
    "            return epsilon\n",
    "\n",
    "        def stress(epsilon):\n",
    "            E = 70.e3\n",
    "            nu = 0.3\n",
    "            mu = E/(2.*(1. + nu))\n",
    "            lmbda = E*nu/((1+nu)*(1-2*nu))\n",
    "            sigma = lmbda*np.trace(epsilon)*np.eye(self.dim) + 2*mu*epsilon\n",
    "            return sigma\n",
    "\n",
    "        def stress_return_map(u_grad, sigma_old, epsilon_old):\n",
    "            sig0 = 250.\n",
    "            epsilon_crt = strain(u_grad)\n",
    "            epsilon_inc = epsilon_crt - epsilon_old\n",
    "            sigma_trial = stress(epsilon_inc) + sigma_old\n",
    "            s_dev = sigma_trial - 1./self.dim*np.trace(sigma_trial)*np.eye(self.dim)\n",
    "            s_norm = safe_sqrt(3./2.*np.sum(s_dev*s_dev))\n",
    "            f_yield = s_norm - sig0\n",
    "            f_yield_plus = np.where(f_yield > 0., f_yield, 0.)\n",
    "            sigma = sigma_trial - safe_divide(f_yield_plus*s_dev, s_norm)\n",
    "            return sigma\n",
    "        return strain, stress_return_map\n",
    "\n",
    "    def stress_strain_fns(self):\n",
    "        strain, stress_return_map = self.get_maps()\n",
    "        vmap_strain = jax.vmap(jax.vmap(strain))\n",
    "        vmap_stress_return_map = jax.vmap(jax.vmap(stress_return_map))\n",
    "        return vmap_strain, vmap_stress_return_map\n",
    "\n",
    "    def update_stress_strain(self, sol):\n",
    "        u_grads = self.fe.sol_to_grad(sol)\n",
    "        vmap_strain, vmap_stress_rm = self.stress_strain_fns()\n",
    "        self.sigmas_old = vmap_stress_rm(u_grads, self.sigmas_old, self.epsilons_old)\n",
    "        self.epsilons_old = vmap_strain(u_grads)\n",
    "        self.internal_vars = [self.sigmas_old, self.epsilons_old]\n",
    "\n",
    "    def compute_avg_stress(self):\n",
    "        # For post-processing only: Compute volume averaged stress.\n",
    "        # (num_cells*num_quads, vec, dim) * (num_cells*num_quads, 1, 1) -> (vec, dim)\n",
    "        sigma = np.sum(self.sigmas_old.reshape(-1, self.fe.vec, self.dim) * self.fe.JxW.reshape(-1)[:, None, None], 0)\n",
    "        vol = np.sum(self.fe.JxW)\n",
    "        avg_sigma = sigma/vol\n",
    "        return avg_sigma"
   ]
  },
  {
   "cell_type": "markdown",
   "id": "3368e766",
   "metadata": {},
   "source": [
    "### Mesh"
   ]
  },
  {
   "cell_type": "markdown",
   "id": "22f97e99",
   "metadata": {},
   "source": [
    "Here we use the first-order hexahedron element `HEX8` to discretize the computational domain:"
   ]
  },
  {
   "cell_type": "code",
   "execution_count": null,
   "id": "bbfe6973",
   "metadata": {},
   "outputs": [],
   "source": [
    "ele_type = 'HEX8'\n",
    "cell_type = get_meshio_cell_type(ele_type)\n",
    "data_dir = os.path.join(os.path.dirname(__file__), 'data')\n",
    "\n",
    "Lx, Ly, Lz = 10., 10., 10.\n",
    "meshio_mesh = box_mesh_gmsh(Nx=10, Ny=10, Nz=10, Lx=Lx, Ly=Ly, Lz=Lz, data_dir=data_dir, ele_type=ele_type)\n",
    "mesh = Mesh(meshio_mesh.points, meshio_mesh.cells_dict[cell_type])"
   ]
  },
  {
   "cell_type": "markdown",
   "id": "af70d19e",
   "metadata": {},
   "source": [
    "### Boundary conditions"
   ]
  },
  {
   "cell_type": "markdown",
   "id": "f4a12b8e",
   "metadata": {},
   "source": [
    "The boundary conditions implement a displacement-controlled uniaxial tensile test: the bottom surface ($z=0$) is fixed with zero displacement constraint `dirichlet_val_bottom(point) = 0`, while the top surface ($z=L_z$) undergoes prescribed displacement loading through `get_dirichlet_top(disp)`. The loading sequence `disps` defines a loading-unloading cycle from 0 to 0.1 mm followed by unloading back to 0, with both constraints applied to the z-component (`vecs = [2, 2]`) to simulate the uniaxial tension."
   ]
  },
  {
   "cell_type": "code",
   "execution_count": null,
   "id": "6e543e7e",
   "metadata": {},
   "outputs": [],
   "source": [
    "# Define boundary locations.\n",
    "def top(point):\n",
    "    return np.isclose(point[2], Lz, atol=1e-5)\n",
    "\n",
    "def bottom(point):\n",
    "    return np.isclose(point[2], 0., atol=1e-5)\n",
    "\n",
    "# Define Dirichlet boundary values.\n",
    "# We fix the z-component of the displacement field to be zero on the 'bottom' \n",
    "# side, and control the z-component on the 'top' side.\n",
    "def dirichlet_val_bottom(point):\n",
    "    return 0.\n",
    "\n",
    "def get_dirichlet_top(disp):\n",
    "    def val_fn(point):\n",
    "        return disp\n",
    "    return val_fn\n",
    "\n",
    "disps = np.hstack((np.linspace(0., 0.1, 11), np.linspace(0.09, 0., 10)))\n",
    "\n",
    "location_fns = [bottom, top]\n",
    "value_fns = [dirichlet_val_bottom, get_dirichlet_top(disps[0])]\n",
    "vecs = [2, 2]\n",
    "\n",
    "dirichlet_bc_info = [location_fns, vecs, value_fns]"
   ]
  },
  {
   "cell_type": "markdown",
   "id": "606101be",
   "metadata": {},
   "source": [
    "### Problem"
   ]
  },
  {
   "cell_type": "markdown",
   "id": "90240dbb",
   "metadata": {},
   "source": [
    "We have completed all the preliminary preparations for the problem. Then we can proceed to create an instance of our BVP:"
   ]
  },
  {
   "cell_type": "code",
   "execution_count": null,
   "id": "8ea8c52f",
   "metadata": {},
   "outputs": [],
   "source": [
    "problem = Plasticity(mesh, vec=3, dim=3, dirichlet_bc_info=dirichlet_bc_info)"
   ]
  },
  {
   "cell_type": "markdown",
   "id": "96bde29c",
   "metadata": {},
   "source": [
    "### Solver"
   ]
  },
  {
   "cell_type": "markdown",
   "id": "2e1c96b4",
   "metadata": {},
   "source": [
    "The defined BVP is solved incrementally using `solver()` for each displacement step in the loading-unloading cycle. Here, we employ the Newton-Raphson method with `PETSc` solver, where the internal stress-strain states are updated after each converged solution via `problem.update_stress_strain()`. "
   ]
  },
  {
   "cell_type": "code",
   "execution_count": null,
   "id": "9df69c96",
   "metadata": {},
   "outputs": [],
   "source": [
    "avg_stresses = []\n",
    "\n",
    "for i, disp in enumerate(disps):\n",
    "    print(f\"\\nStep {i} in {len(disps)}, disp = {disp}\")\n",
    "    dirichlet_bc_info[-1][-1] = get_dirichlet_top(disp)\n",
    "    problem.fe.update_Dirichlet_boundary_conditions(dirichlet_bc_info)\n",
    "    sol_list = solver(problem, solver_options={'petsc_solver': {}})\n",
    "    problem.update_stress_strain(sol_list[0])\n",
    "    avg_stress = problem.compute_avg_stress()\n",
    "    print(avg_stress)\n",
    "    avg_stresses.append(avg_stress)\n",
    "    vtk_path = os.path.join(data_dir, f'vtk/u_{i:03d}.vtu')\n",
    "    save_sol(problem.fe, sol_list[0], vtk_path)\n",
    "\n",
    "avg_stresses = np.array(avg_stresses)"
   ]
  },
  {
   "cell_type": "markdown",
   "id": "31c2d4e8",
   "metadata": {},
   "source": [
    "### Postprocessing"
   ]
  },
  {
   "cell_type": "markdown",
   "id": "2b5f3ff5",
   "metadata": {},
   "source": [
    "The solution can be exported to VTK format files (readable by ParaView and other post-processing software) using `jax_fem`'s built-in function `save_sol`:"
   ]
  },
  {
   "cell_type": "code",
   "execution_count": null,
   "id": "d95fd66d",
   "metadata": {},
   "outputs": [],
   "source": [
    "# Plot the volume-averaged stress versus the vertical displacement of the top surface.\n",
    "fig = plt.figure(figsize=(10, 8))\n",
    "plt.plot(disps, avg_stresses[:, 2, 2], color='red', marker='o', markersize=8, linestyle='-') \n",
    "plt.xlabel(r'Displacement of top surface [mm]', fontsize=20)\n",
    "plt.ylabel(r'Volume averaged stress (z-z) [MPa]', fontsize=20)\n",
    "plt.tick_params(labelsize=18)\n",
    "plt.show()"
   ]
  },
  {
   "cell_type": "markdown",
   "id": "0bf1799e",
   "metadata": {},
   "source": [
    "<center>\n",
    "  <img src=\"../../_static/images/plasticity.gif\" width=\"400\" />\n",
    "  <p><em>z-z component of volume-averaged stress versus displacement of the top surface.</em></p>\n",
    "</center>\n",
    "\n",
    "<center>\n",
    "  <img src=\"../../_static/images/plasticity_curve.png\" width=\"400\" />\n",
    "  <p><em>Stress-strain curve.</em></p>\n",
    "</center>"
   ]
  },
  {
   "cell_type": "markdown",
   "id": "9807218e",
   "metadata": {},
   "source": [
    "> Please refer to this [link](https://github.com/deepmodeling/jax-fem/blob/main/docs/source/learn/plasticity/example.ipynb) to download the source file."
   ]
  },
  {
   "cell_type": "markdown",
   "id": "8c2e710c",
   "metadata": {},
   "source": [
    "## References"
   ]
  },
  {
   "cell_type": "markdown",
   "id": "ed5ba462",
   "metadata": {},
   "source": [
    "1. [Simo, Juan C., and Thomas JR Hughes. Computational inelasticity. Vol. 7. Springer Science & Business Media, 2006.](https://books.google.com/books/about/Computational_Inelasticity.html?id=EILbBwAAQBAJ)\n",
    "\n",
    "2. [Xue, Tianju, et al. \"JAX-FEM: A differentiable GPU-accelerated 3D finite element solver for automatic inverse design and mechanistic data science.\" Computer Physics Communications (2023): 108802.](https://www.sciencedirect.com/science/article/abs/pii/S0010465523001479)"
   ]
  }
 ],
 "metadata": {
  "language_info": {
   "name": "python"
  }
 },
 "nbformat": 4,
 "nbformat_minor": 5
}
