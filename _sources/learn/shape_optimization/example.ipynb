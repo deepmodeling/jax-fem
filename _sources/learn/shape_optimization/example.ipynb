{
 "cells": [
  {
   "cell_type": "markdown",
   "id": "01935f8e-96c7-4d13-a631-96f85e68cf8e",
   "metadata": {},
   "source": [
    "# Shape optimization\n",
    "## Problem definition\n",
    "\n",
    "In this example, an inverse problem is considered. The design parameter is a stiffness related term. The target of this tutorial is to use JAX-FEM to automatically find the gradient of the objective function with respect to this design variable.\n",
    "\n",
    "A structural shape optimization problem will be illustrated here. A 2D cantilever beam contains eight square holes and is fixed at the left boundary ($\\Gamma_D$). A shear force $\\boldsymbol{t}$ is applied near the bottom-right boundary ($\\Gamma_N$). Manufacturing constraints permit the rotation of the eight holes, and the goal is to **minimize the compliance** of the beam under the applied shear force. \n",
    "\n",
    "The design parameters $\\boldsymbol{\\theta} = [\\theta_1, \\theta_2, \\dots, \\theta_M] \\in \\mathbb{R}^M$ with $M=8$ represent the **rotation angles** of the eight holes. The mapping from $\\boldsymbol{\\theta}$ to the density field $\\rho(\\boldsymbol{x})$ commonly used in topology optimization uses a **sigmoid function** to ensure smoothness and differentiability. The material model follows the hyperelasticity formulation introduced in the previous example ([traction force identification](https://deepmodeling.github.io/jax-fem/learn/traction_force_identification/example.html)).\n",
    "\n",
    "![Shape Optimization](../../_static/images/shape_optimization.png)\n",
    " \n",
    "The static equilibrium for the hyperelastic material follows:  \n",
    "\n",
    "$$\n",
    "\\begin{aligned}\n",
    "-\\nabla \\cdot \\boldsymbol{P} &= \\boldsymbol{0}  \\quad \\text{in}  \\quad \\Omega, \\\\\n",
    "\\boldsymbol{u} &= \\boldsymbol{0}  \\quad \\text{on}  \\quad \\Gamma_D, \\\\\n",
    "\\boldsymbol{P} \\cdot \\boldsymbol{n} &= \\boldsymbol{t}  \\quad \\text{on}  \\quad \\Gamma_N,\n",
    "\\end{aligned}\n",
    "$$\n",
    "\n",
    "where $\\boldsymbol{P}$ is the first Piola–Kirchhoff stress tensor derived from a neo-Hookean strain energy density function $W$.  \n",
    "\n",
    "### Domain and boundary conditions  \n",
    "- $\\Omega \\subset \\mathbb{R}^2$ (2D cantilever beam with eight square holes)\n",
    "- $\\Gamma_D = \\left\\{ \\boldsymbol{x} \\in \\partial \\Omega  \\mid  x_1 = 0 \\right\\}$ (Dirichlet boundary: fixed left side)\n",
    "- $\\Gamma_N \\subset \\left\\{ \\boldsymbol{x} \\in \\partial \\Omega  \\mid  x_1 = L \\right\\}$ (Neumann boundary: right side, near the bottom)\n",
    "\n",
    "### Weak form  \n",
    "Find $\\boldsymbol{u}$ such that for all test functions $\\boldsymbol{v}$, \n",
    "$$\n",
    "r(\\boldsymbol{u}; \\boldsymbol{v}) = \\int_{\\Omega} \\boldsymbol{P} : \\nabla \\boldsymbol{v}  \\mathrm{d}\\Omega - \\int_{\\Gamma_N} \\boldsymbol{t} \\cdot \\boldsymbol{v}  \\mathrm{d}\\Gamma = 0.\n",
    "$$\n",
    "\n",
    "### Optimization problem  \n",
    "The inverse shape optimization subject to the PDE constraint:  \n",
    "\n",
    "$$\n",
    "\\begin{aligned}\n",
    "\\min_{\\boldsymbol{\\theta}} \\quad & \\int_{\\Gamma_N} \\boldsymbol{t} \\cdot \\boldsymbol{u}  \\mathrm{d} \\Gamma \\\\\n",
    "\\text{s.t.} \\quad & r(\\boldsymbol{u}; \\boldsymbol{v}) = 0,\n",
    "\\end{aligned}\n",
    "$$\n",
    "\n",
    "which minimizes the compliance while rotating holes to alter the stiffness distribution."
   ]
  },
  {
   "cell_type": "markdown",
   "id": "3827aefe-9d65-4320-a785-b8447bdc3e5f",
   "metadata": {},
   "source": [
    "## Implementation\n",
    "\n",
    "For the implementation, we first import some necessary modules."
   ]
  },
  {
   "cell_type": "code",
   "execution_count": 45,
   "id": "cbd4781d-079e-429c-9b8c-ab1c979c278a",
   "metadata": {},
   "outputs": [],
   "source": [
    "import numpy as onp\n",
    "import jax\n",
    "import jax.numpy as np\n",
    "import os\n",
    "import meshio\n",
    "\n",
    "# Import JAX-FEM specific modules.\n",
    "from jax_fem.problem import Problem\n",
    "from jax_fem.solver import ad_wrapper\n",
    "from jax_fem.utils import save_sol\n",
    "from jax_fem.generate_mesh import get_meshio_cell_type, Mesh, rectangle_mesh "
   ]
  },
  {
   "cell_type": "markdown",
   "id": "9203235d-152d-4bdd-973f-1232759c36da",
   "metadata": {},
   "source": [
    "### Weak form\n",
    "\n",
    "The definition of the hyperelasticity problem is shown as follows. The code is similar to the one used in the example of traction force identification, but with different internal variables settings for a different optimizaiton problem. Here, we are using the rotation angles of the eight square holes in the structure as the design parameters.\n",
    "\n",
    "To define the square holes with polar coordinates, we first define a sigmoid function to map the input variables into the range of the rotation angles."
   ]
  },
  {
   "cell_type": "code",
   "execution_count": 46,
   "id": "6d46e579-c9de-4765-a228-12a6d1248eeb",
   "metadata": {},
   "outputs": [],
   "source": [
    "def scaled_sigmoid(x, lower_lim, upper_lim, p=0.1):\n",
    "    return lower_lim + (upper_lim - lower_lim)/((1. + np.exp(-x*p)))"
   ]
  },
  {
   "cell_type": "markdown",
   "id": "97dc083b-ef52-49f4-a2ca-a995ad7d7b2a",
   "metadata": {},
   "source": [
    "With the rotation angles computed, we can use another sigmoid function to dig the rotated square holes in our design domain and return the density field. We use `jax.vmap` to vectorized the computation process in the dimension of number of holes."
   ]
  },
  {
   "cell_type": "code",
   "execution_count": 47,
   "id": "9947b732-5ca9-426c-87f9-b67c6c7d38c1",
   "metadata": {},
   "outputs": [],
   "source": [
    "def pore_fn(x, pore_center, L0, beta):\n",
    "    beta = scaled_sigmoid(beta, -np.pi/4., np.pi/4., p=0.1)\n",
    "    porosity = 0.5\n",
    "    theta = np.arctan2(x[1] - pore_center[1], x[0] - pore_center[0]) \n",
    "    r = np.sqrt(np.sum((x - pore_center)**2))\n",
    "    x_rel = r*np.cos(theta - beta)\n",
    "    y_rel = r*np.sin(theta - beta)\n",
    "    p = 200.\n",
    "    rho = 1./(1. + np.exp(-(np.abs(x_rel) + np.abs(y_rel) - 0.9*L0/2)*p))\n",
    "    return rho\n",
    "pore_fn_vmap = jax.vmap(pore_fn, in_axes=(0, None, None, None))"
   ]
  },
  {
   "cell_type": "markdown",
   "id": "0a3959f3-01f1-49af-841a-8b164660f6f8",
   "metadata": {},
   "source": [
    "In order to define the holes in the design domain, we prepare the necessary information of the central points and intergral points in all the cells with the method `custom_init`. These will be done when the `problem` instance be initiated. Noted that we have four additional input arguments in `custom_init`. We will descride how this can be realized in the following problem definition part."
   ]
  },
  {
   "cell_type": "code",
   "execution_count": null,
   "id": "17bde785-c437-40e8-9ff4-f5e5f2bc22f3",
   "metadata": {},
   "outputs": [],
   "source": [
    "class Elasticity(Problem):\n",
    "    def custom_init(self, Lx, Ly, nx, ny):\n",
    "        self.fe = self.fes[0]\n",
    "        # (num_cells, num_quads, dim)\n",
    "        physical_quad_points = self.fe.get_physical_quad_points()\n",
    "        L0 = Lx/nx\n",
    "        self.pore_center_list = []\n",
    "        self.quad_inds_list = []\n",
    "        for i in range(nx):\n",
    "            for j in range(ny):\n",
    "                pore_center = np.array([i*L0 + L0/2., j*L0 + L0/2.])\n",
    "                self.pore_center_list.append(pore_center)\n",
    "                # (num_selected_quad_points, 2)\n",
    "                quad_inds = np.argwhere((physical_quad_points[:, :, 0] >= i*L0) &\n",
    "                                        (physical_quad_points[:, :, 0] < (i + 1)*L0) & \n",
    "                                        (physical_quad_points[:, :, 1] >= j*L0) &\n",
    "                                        (physical_quad_points[:, :, 1] < (j + 1)*L0))\n",
    "                self.quad_inds_list.append(quad_inds)\n",
    "        self.L0 = L0"
   ]
  },
  {
   "cell_type": "markdown",
   "id": "bce7a3d8-2703-4917-9113-60bed6a46a3b",
   "metadata": {},
   "source": [
    "Then follows the definition of the weak form of a 2D plane strain hyperelasticity problem."
   ]
  },
  {
   "cell_type": "code",
   "execution_count": null,
   "id": "3426dbb7-c1f0-4455-9d0e-28b87b462402",
   "metadata": {},
   "outputs": [],
   "source": [
    "    def get_tensor_map(self):\n",
    "        def psi(F_2d, rho):\n",
    "            # Plane strain\n",
    "            F = np.array([[F_2d[0, 0], F_2d[0, 1], 0.], \n",
    "                            [F_2d[1, 0], F_2d[1, 1], 0.],\n",
    "                            [0., 0., 1.]])\n",
    "            Emax = 1e6  \n",
    "            Emin = 1e-3*Emax\n",
    "            E = Emin + (Emax - Emin)*rho\n",
    "            nu = 0.3\n",
    "            mu = E/(2.*(1. + nu))\n",
    "            kappa = E/(3.*(1. - 2.*nu))\n",
    "            J = np.linalg.det(F)\n",
    "            Jinv = J**(-2./3.)\n",
    "            I1 = np.trace(F.T @ F)\n",
    "            energy = (mu/2.)*(Jinv*I1 - 3.) + (kappa/2.) * (J - 1.)**2.\n",
    "            return energy\n",
    "        P_fn = jax.grad(psi)\n",
    "        \n",
    "        def first_PK_stress(u_grad, rho):\n",
    "            I = np.eye(self.dim)\n",
    "            F = u_grad + I\n",
    "            P = P_fn(F, rho)\n",
    "            return P\n",
    "        return first_PK_stress\n",
    "\n",
    "    def get_surface_maps(self):\n",
    "        def surface_map(u, x):\n",
    "            return np.array([0, 1e4])\n",
    "        return [surface_map]"
   ]
  },
  {
   "cell_type": "markdown",
   "id": "e3e9b026-5a2b-4f1d-9b12-52963d87344b",
   "metadata": {},
   "source": [
    "Here we comes to the most critical part of this tutorial about how to use some stiffness related terms as design parameters. In the method `set_params`, We input the rotation angles of the eight holes with the argument `params` and compute the density field based on it with the functions we formerly defined."
   ]
  },
  {
   "cell_type": "code",
   "execution_count": null,
   "id": "843a6f40-de0e-4c5d-b510-4d130de55a14",
   "metadata": {},
   "outputs": [],
   "source": [
    "    def set_params(self, params):\n",
    "        # Override base class method.\n",
    "        beta = params\n",
    "        rhos = np.ones((self.fe.num_cells, self.fe.num_quads))\n",
    "        for i in range(len(self.pore_center_list)):\n",
    "            quad_inds = self.quad_inds_list[i]\n",
    "            # (num_selected_quad_points, dim)\n",
    "            quad_points = self.physical_quad_points[quad_inds[:, 0], quad_inds[:, 1]]\n",
    "            pore_center = self.pore_center_list[i]\n",
    "            rho_vals = pore_fn_vmap(quad_points, pore_center, self.L0, beta[i])\n",
    "            rhos = rhos.at[quad_inds[:, 0], quad_inds[:, 1]].set(rho_vals)\n",
    "        self.internal_vars = [rhos]"
   ]
  },
  {
   "cell_type": "markdown",
   "id": "ff09f848-6a84-4c40-b993-00f70b3be100",
   "metadata": {},
   "source": [
    "Then follows the definition of our objective funtion, which is the compliance."
   ]
  },
  {
   "cell_type": "code",
   "execution_count": null,
   "id": "7f450079-1299-44a5-9e42-8d6c2fdbe84d",
   "metadata": {},
   "outputs": [],
   "source": [
    "    def compute_compliance(self, sol):\n",
    "        # Surface integral\n",
    "        boundary_inds = self.boundary_inds_list[0]\n",
    "        _, nanson_scale = self.fe.get_face_shape_grads(boundary_inds)\n",
    "        # (num_selected_faces, 1, num_nodes, vec) * # (num_selected_faces, num_face_quads, num_nodes, 1)    \n",
    "        u_face = sol[self.fe.cells][boundary_inds[:, 0]][:, None, :, :] * self.fe.face_shape_vals[boundary_inds[:, 1]][:, :, :, None]\n",
    "        u_face = np.sum(u_face, axis=2) # (num_selected_faces, num_face_quads, vec)\n",
    "        # (num_selected_faces, num_face_quads, dim)\n",
    "        subset_quad_points = self.physical_surface_quad_points[0]\n",
    "        neumann_fn = self.get_surface_maps()[0]\n",
    "        traction = -jax.vmap(jax.vmap(neumann_fn))(u_face, subset_quad_points) # (num_selected_faces, num_face_quads, vec)\n",
    "        val = np.sum(traction * u_face * nanson_scale[:, :, None])\n",
    "        return val"
   ]
  },
  {
   "cell_type": "markdown",
   "id": "14a5e333-60b1-4838-be41-b2a56a90e0dc",
   "metadata": {},
   "source": [
    "### Mesh\n",
    "\n",
    "Here we use the `QUAD4` element to discretize the computational domain."
   ]
  },
  {
   "cell_type": "code",
   "execution_count": 49,
   "id": "838c8768-c6d8-4292-a989-80e7cfda8373",
   "metadata": {},
   "outputs": [],
   "source": [
    "ele_type = 'QUAD4'\n",
    "cell_type = get_meshio_cell_type(ele_type)\n",
    "Lx, Ly = 1., 0.5\n",
    "nx, ny = 4, 2 # pore numbers along x-axis and y-axis\n",
    "meshio_mesh = rectangle_mesh(Nx=100, Ny=50, domain_x=Lx, domain_y=Ly)\n",
    "mesh = Mesh(meshio_mesh.points, meshio_mesh.cells_dict[cell_type])"
   ]
  },
  {
   "cell_type": "markdown",
   "id": "eb73b9fe-dbea-4927-8c75-ca102446df76",
   "metadata": {},
   "source": [
    "### Boundary conditions\n",
    "\n",
    "Then we can define the Dirichlet boundary condition and the location of the Neumann boundary condtion.\n"
   ]
  },
  {
   "cell_type": "code",
   "execution_count": 50,
   "id": "a62bf4bc-79b2-4999-8aa8-fe58709726fa",
   "metadata": {},
   "outputs": [],
   "source": [
    "def fixed_location(point):\n",
    "    return np.isclose(point[0], 0., atol=1e-5)\n",
    "    \n",
    "def load_location(point):\n",
    "    return np.logical_and(np.isclose(point[0], Lx, atol=1e-5), np.isclose(point[1], 0., atol=0.1*Ly + 1e-5))\n",
    "\n",
    "def dirichlet_val(point):\n",
    "    return 0.\n",
    "\n",
    "dirichlet_bc_info = [[fixed_location]*2, [0, 1], [dirichlet_val]*2]\n",
    "\n",
    "location_fns = [load_location]"
   ]
  },
  {
   "cell_type": "markdown",
   "id": "6ecd09fc-1095-4ae1-898a-32d74335f96c",
   "metadata": {},
   "source": [
    "### Problem\n",
    "\n",
    "We have completed all the preliminary preparations for the problem. So, we can proceed to create an instance of our problem. Here we are adding some `additional_info`, which are the sizes of our design domain and the pore numbers along the two spacial axis, to the instance."
   ]
  },
  {
   "cell_type": "code",
   "execution_count": null,
   "id": "25886736-6015-47e3-aefb-dbb97bf4f551",
   "metadata": {},
   "outputs": [],
   "source": [
    "problem = Elasticity(mesh, vec=2, dim=2, ele_type=ele_type, dirichlet_bc_info=dirichlet_bc_info, \n",
    "                     location_fns=location_fns, additional_info=(Lx, Ly, nx, ny))"
   ]
  },
  {
   "cell_type": "markdown",
   "id": "88b7038f-5533-41d6-ac0e-14930abe4312",
   "metadata": {},
   "source": [
    "### Solver\n",
    "\n",
    "Then we can wrap the forward problem with the function `ad_wrapper`, which enables efficient gradient computation for our inverse problem."
   ]
  },
  {
   "cell_type": "code",
   "execution_count": 52,
   "id": "f591f0d1-cd33-4944-9528-cd0f75a945a5",
   "metadata": {},
   "outputs": [],
   "source": [
    "fwd_pred = ad_wrapper(problem, solver_options={'umfpack_solver': {}}, adjoint_solver_options={'umfpack_solver': {}})"
   ]
  },
  {
   "cell_type": "markdown",
   "id": "d97764dd-4b63-4ea9-9ec8-a8e277ad9d59",
   "metadata": {},
   "source": [
    "Then follows the definition of our objective funtion."
   ]
  },
  {
   "cell_type": "code",
   "execution_count": 53,
   "id": "9d0371f0-f188-4ee2-af53-964c6e4f17f4",
   "metadata": {},
   "outputs": [],
   "source": [
    "def J(θ):\n",
    "    sol_list = fwd_pred(θ)\n",
    "    compliace = problem.compute_compliance(sol_list[0])\n",
    "    return compliace"
   ]
  },
  {
   "cell_type": "markdown",
   "id": "a765559f-d4cb-4e5c-a4a0-e5e33bfe8575",
   "metadata": {},
   "source": [
    "To verify the accuracy of gradients computed using `jax.grad`, we employ the finite difference method."
   ]
  },
  {
   "cell_type": "code",
   "execution_count": null,
   "id": "2ca6a834-45f2-4b29-be78-d922777c5ecc",
   "metadata": {},
   "outputs": [],
   "source": [
    "θ_ini = np.array([1.]*nx*ny)\n",
    "grad_value = jax.grad(J)(θ_ini)\n",
    "\n",
    "h = 1e-3\n",
    "θ_plus = θ_ini.at[0].set((1+h)*θ_ini[0])\n",
    "θ_minus = θ_ini.at[0].set((1-h)*θ_ini[0])\n",
    "dx_fd_0 = (J(θ_plus) - J(θ_minus))/(2*h*θ_ini[0])\n",
    "\n",
    "print(f\"\\n grad_value[0] = {grad_value[0]}, dx_fd_0 = {dx_fd_0}\")"
   ]
  },
  {
   "cell_type": "markdown",
   "id": "85bb6fc3-d143-40eb-8e18-eedcb4c52496",
   "metadata": {},
   "source": [
    "The computation results are shown as follows:"
   ]
  },
  {
   "cell_type": "code",
   "execution_count": 55,
   "id": "f0a9a998-bb7a-41dd-b811-1ec72892c03f",
   "metadata": {},
   "outputs": [],
   "source": [
    "grad_value[0] = -0.036371384648253284, dx_fd_0 = -0.03637138590661948"
   ]
  },
  {
   "cell_type": "markdown",
   "id": "b7c25e5a",
   "metadata": {},
   "source": [
    "> Please refer to this [link](https://github.com/deepmodeling/jax-fem/blob/main/docs/source/learn/shape_optimization/example.ipynb) to download the source file."
   ]
  }
 ],
 "metadata": {
  "language_info": {
   "name": "python"
  }
 },
 "nbformat": 4,
 "nbformat_minor": 5
}
