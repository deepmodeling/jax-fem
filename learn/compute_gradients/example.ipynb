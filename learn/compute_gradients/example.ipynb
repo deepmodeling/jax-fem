{
 "cells": [
  {
   "cell_type": "markdown",
   "id": "a421076d",
   "metadata": {},
   "source": [
    "# Compute gradients"
   ]
  },
  {
   "cell_type": "markdown",
   "id": "fcaeb8fc",
   "metadata": {},
   "source": [
    "## Problem definition"
   ]
  },
  {
   "cell_type": "markdown",
   "id": "2d8101d5",
   "metadata": {},
   "source": [
    "In this example, we focus on inverse problems that aim to infer unknown model parameters or loading conditions from observed deformation data, often requiring efficient and accurate gradient computation under large strains. We demostrate the process to compute the derivative by automatic differentiation and validate the results by the finite difference method. The same hyperelastic body as in the [hyperelasticity example](https://deepmodeling.github.io/jax-fem/learn/hyperelasticity/example.html) is considered, i.e., a unit cube with a neo-Hookean solid model. In addition, we have the following definitions:"
   ]
  },
  {
   "cell_type": "markdown",
   "id": "7b39ed3c",
   "metadata": {},
   "source": [
    "- $\\Omega = (0,1) \\times (0,1) \\times (0,1)$ (a unit cube)\n",
    "- $\\mathbf{b} = [0, 0, 0]$\n",
    "- $\\Gamma_D = (0,1) \\times (0,1) \\times \\{0\\}$\n",
    "- $\\mathbf{u}_D = [0, 0, \\beta]$\n",
    "- $\\Gamma_{N_1} = (0,1) \\times (0,1) \\times \\{1\\}$\n",
    "- $\\mathbf{t}_{N_1} = [0, 0, -1000]$\n",
    "- $\\Gamma_{N_2} = \\partial \\Omega \\setminus (\\Gamma_D \\cup \\Gamma_{N_1})$\n",
    "- $\\mathbf{t}_{N_2} = [0, 0, 0]$\n"
   ]
  },
  {
   "cell_type": "markdown",
   "id": "57ce75bd",
   "metadata": {},
   "source": [
    "To solve the inverse problem, we formulate an objective function that measures the discrepancy between the computed displacement and the target one, and compute its derivatives with respect to model parameters. The objective function is defined as:\n",
    "$$\n",
    "J = \\sum_{i=1}^{N_d} \\left( \\boldsymbol{u}[i] \\right)^2\n",
    "$$ \n",
    "where $N_d$ is the total number of degrees of freedom. $u[i]$ is the $i$-th component of the displacement vector $\\boldsymbol{u}$, which is obtained by solving the following discretized governing PDE:\n",
    "$$\n",
    "\\mathcal{C}(\\boldsymbol{u}, \\boldsymbol{\\alpha}) = 0\n",
    "$$\n",
    "where $\\boldsymbol{\\alpha}$ is the parameter vector. Here, we set up three parameters, $\\boldsymbol{\\alpha}_1 = E$ the elasticity modulus, $\\boldsymbol{\\alpha}_2 = \\rho$ the material density, and $\\boldsymbol{\\alpha}_3 = \\beta$ the scale factor of the Dirichlet boundary conditions. We can see that $\\boldsymbol{u}(\\boldsymbol{\\alpha})$ is the implicit function of the parameter vector $\\boldsymbol{\\alpha}$. "
   ]
  },
  {
   "cell_type": "markdown",
   "id": "bfa6f976",
   "metadata": {},
   "source": [
    "## Implementation"
   ]
  },
  {
   "cell_type": "markdown",
   "id": "a7777263",
   "metadata": {},
   "source": [
    "First, we need to import some useful modules and JAX-FEM specific modules："
   ]
  },
  {
   "cell_type": "code",
   "execution_count": null,
   "id": "6781857e",
   "metadata": {},
   "outputs": [],
   "source": [
    "# Import some useful modules.\n",
    "import numpy as onp\n",
    "import jax\n",
    "import jax.numpy as np\n",
    "import os\n",
    "import glob\n",
    "import matplotlib.pyplot as plt\n",
    "\n",
    "\n",
    "# Import JAX-FEM specific modules.\n",
    "from jax_fem.problem import Problem\n",
    "from jax_fem.solver import solver, ad_wrapper\n",
    "from jax_fem.utils import save_sol\n",
    "from jax_fem.generate_mesh import get_meshio_cell_type, Mesh, box_mesh_gmsh\n"
   ]
  },
  {
   "cell_type": "markdown",
   "id": "8e60c724",
   "metadata": {},
   "source": [
    "### Weak form"
   ]
  },
  {
   "cell_type": "markdown",
   "id": "169a0035",
   "metadata": {},
   "source": [
    "Similarly, we use the **Laplace Kernel** to implement hyperelastic constitutive relations by overriding the `get_tensor_map` method, and utilize **Surface Kernel** for boundary condition implementation. The `get_surface_maps` method defines boundary loading through the surface mapping function `surface_map`, where the returned traction vector is integrated over boundary faces via the **Surface Kernel**.  "
   ]
  },
  {
   "cell_type": "markdown",
   "id": "d75dcb8f",
   "metadata": {},
   "source": [
    "For inverse problems, the `set_params(params)` method provides the interface for dynamic model parameter updates, decomposing parameters into material properties ($E$, $\\rho$) and boundary condition scales ($\\beta$). This method assigns material density as internal variable `self.internal_vars = [rho]` and  modifies Dirichlet boundary conditions through `self.fe.dirichlet_bc_info` updates. "
   ]
  },
  {
   "cell_type": "code",
   "execution_count": null,
   "id": "bc53a2f7",
   "metadata": {},
   "outputs": [],
   "source": [
    "class HyperElasticity(Problem):\n",
    "    def custom_init(self):\n",
    "        self.fe = self.fes[0]\n",
    "\n",
    "    def get_tensor_map(self):\n",
    "        def psi(F, rho):\n",
    "            E = self.E * rho\n",
    "            nu = 0.3\n",
    "            mu = E/(2.*(1. + nu))\n",
    "            kappa = E/(3.*(1. - 2.*nu))\n",
    "            J = np.linalg.det(F)\n",
    "            Jinv = J**(-2./3.)\n",
    "            I1 = np.trace(F.T @ F)\n",
    "            energy = (mu/2.)*(Jinv*I1 - 3.) + (kappa/2.) * (J - 1.)**2.\n",
    "            return energy\n",
    "        P_fn = jax.grad(psi)\n",
    "\n",
    "        def first_PK_stress(u_grad, rho):\n",
    "            I = np.eye(self.dim)\n",
    "            F = u_grad + I\n",
    "            P = P_fn(F, rho)\n",
    "            return P\n",
    "        return first_PK_stress\n",
    "\n",
    "    def get_surface_maps(self):\n",
    "        def surface_map(u, x):\n",
    "            return np.array([0., 0., 1e3])\n",
    "\n",
    "        return [surface_map]\n",
    "\n",
    "    def set_params(self, params):\n",
    "        E, rho, scale_d = params\n",
    "        self.E = E\n",
    "        self.internal_vars = [rho]\n",
    "        self.fe.dirichlet_bc_info[-1][-1] = get_dirichlet_bottom(scale_d)\n",
    "        self.fe.update_Dirichlet_boundary_conditions(self.fe.dirichlet_bc_info)\n"
   ]
  },
  {
   "cell_type": "markdown",
   "id": "07189383",
   "metadata": {},
   "source": [
    "### Mesh"
   ]
  },
  {
   "cell_type": "code",
   "execution_count": null,
   "id": "0e214472",
   "metadata": {},
   "outputs": [],
   "source": [
    "# Specify mesh-related information (first-order hexahedron element).\n",
    "ele_type = 'HEX8'\n",
    "cell_type = get_meshio_cell_type(ele_type)\n",
    "data_dir = os.path.join(os.path.dirname(__file__), 'data')\n",
    "Lx, Ly, Lz = 1., 1., 1.\n",
    "meshio_mesh = box_mesh_gmsh(Nx=5, Ny=5, Nz=5, Lx=Lx, Ly=Ly, Lz=Lz, data_dir=data_dir, ele_type=ele_type)\n",
    "mesh = Mesh(meshio_mesh.points, meshio_mesh.cells_dict[cell_type])"
   ]
  },
  {
   "cell_type": "markdown",
   "id": "43865d62",
   "metadata": {},
   "source": [
    "### Boundary conditions"
   ]
  },
  {
   "cell_type": "markdown",
   "id": "657a949a",
   "metadata": {},
   "source": [
    "Dirichlet boundary condition is applied on the bottom surface ($z = 0$):\n",
    "  - Displacement in the $x$ and $y$ directions is fixed to zero.\n",
    "  - Displacement in the $z$ direction is set to $\\beta L_z$, where $\\beta$ is a scaling parameter.\n",
    "\n",
    "Neumann boundary condition (surface traction) is applied on the top surface ($z = L_z$)."
   ]
  },
  {
   "cell_type": "code",
   "execution_count": null,
   "id": "acc5c76f",
   "metadata": {},
   "outputs": [],
   "source": [
    "# Define Dirichlet boundary values.\n",
    "def get_dirichlet_bottom(scale):\n",
    "    def dirichlet_bottom(point):\n",
    "        z_disp = scale*Lz\n",
    "        return z_disp\n",
    "    return dirichlet_bottom\n",
    "\n",
    "def zero_dirichlet_val(point):\n",
    "    return 0.\n",
    "\n",
    "# Define boundary locations.\n",
    "def bottom(point):\n",
    "    return np.isclose(point[2], 0., atol=1e-5)\n",
    "\n",
    "def top(point):\n",
    "    return np.isclose(point[2], Lz, atol=1e-5)\n",
    "\n",
    "dirichlet_bc_info = [[bottom]*3, [0, 1, 2], [zero_dirichlet_val]*2 + [get_dirichlet_bottom(1.)]]\n",
    "location_fns = [top]"
   ]
  },
  {
   "cell_type": "markdown",
   "id": "dda7126f",
   "metadata": {},
   "source": [
    "### Problem"
   ]
  },
  {
   "cell_type": "markdown",
   "id": "c327381e",
   "metadata": {},
   "source": [
    "we can proceed to define the problem in JAX-FEM"
   ]
  },
  {
   "cell_type": "code",
   "execution_count": null,
   "id": "d620de09",
   "metadata": {},
   "outputs": [],
   "source": [
    "# Create an instance of the problem.\n",
    "problem = HyperElasticity(mesh, vec=3, dim=3, ele_type=ele_type, dirichlet_bc_info=dirichlet_bc_info, location_fns=location_fns)"
   ]
  },
  {
   "cell_type": "markdown",
   "id": "dfc8947b",
   "metadata": {},
   "source": [
    "and define the parameter values:"
   ]
  },
  {
   "cell_type": "code",
   "execution_count": null,
   "id": "6ddc99de",
   "metadata": {},
   "outputs": [],
   "source": [
    "rho = 0.5*np.ones((problem.fe.num_cells, problem.fe.num_quads))\n",
    "E = 1.e6\n",
    "scale_d = 1.\n",
    "params = [E, rho, scale_d]"
   ]
  },
  {
   "cell_type": "markdown",
   "id": "a3b25959",
   "metadata": {},
   "source": [
    "### Solver"
   ]
  },
  {
   "cell_type": "markdown",
   "id": "615da1ad",
   "metadata": {},
   "source": [
    "In `jax_fem`, users can easily compute the derivative of the objective function with respect to these parameters through automatic differentiation. We first wrap the forward problem with the function `jax_fem.solver.ad_wrapper`, which defines the implicit differentiation through `@jax.custom_vjp`.  The wrapper defines custom forward and backward passes: the forward pass `f_fwd` calls the nonlinear solver to obtain the displacement field, while the backward pass `f_bwd` implements the adjoint method through `implicit_vjp`, computing parameter sensitivities via the adjoint method. This enables efficient gradient computation for inverse problems using standard `jax` operations like `jax.grad` on the composed objective function $J$."
   ]
  },
  {
   "cell_type": "code",
   "execution_count": null,
   "id": "f6ed36b7",
   "metadata": {},
   "outputs": [],
   "source": [
    "# Implicit differentiation wrapper\n",
    "fwd_pred = ad_wrapper(problem) \n",
    "sol_list = fwd_pred(params)\n",
    "\n",
    "def test_fn(sol_list):\n",
    "    return np.sum(sol_list[0]**2)\n",
    "\n",
    "def composed_fn(params):\n",
    "    return test_fn(fwd_pred(params))\n",
    "\n",
    "val = test_fn(sol_list)"
   ]
  },
  {
   "cell_type": "markdown",
   "id": "6714754a",
   "metadata": {},
   "source": [
    "We also use the finte difference method to validate the results. "
   ]
  },
  {
   "cell_type": "code",
   "execution_count": null,
   "id": "516a3935",
   "metadata": {},
   "outputs": [],
   "source": [
    "h = 1e-3 # small perturbation\n",
    "\n",
    "# Forward difference\n",
    "E_plus = (1 + h)*E\n",
    "params_E = [E_plus, rho, scale_d]\n",
    "dE_fd = (composed_fn(params_E) - val)/(h*E)\n",
    "\n",
    "rho_plus = rho.at[0, 0].set((1 + h)*rho[0, 0])\n",
    "params_rho = [E, rho_plus, scale_d]\n",
    "drho_fd_00 = (composed_fn(params_rho) - val)/(h*rho[0, 0])\n",
    "\n",
    "scale_d_plus = (1 + h)*scale_d\n",
    "params_scale_d = [E, rho, scale_d_plus]\n",
    "dscale_d_fd = (composed_fn(params_scale_d) - val)/(h*scale_d)\n",
    "\n",
    "# Derivative obtained by automatic differentiation\n",
    "dE, drho, dscale_d = jax.grad(composed_fn)(params)"
   ]
  },
  {
   "cell_type": "markdown",
   "id": "a0a69a18",
   "metadata": {},
   "source": [
    "### Postprocessing"
   ]
  },
  {
   "cell_type": "markdown",
   "id": "725b16b8",
   "metadata": {},
   "source": [
    "We then compare the computation results:"
   ]
  },
  {
   "cell_type": "code",
   "execution_count": null,
   "id": "085866ed",
   "metadata": {},
   "outputs": [],
   "source": [
    "# Comparison\n",
    "print(f\"\\nDerivative comparison between automatic differentiation (AD) and finite difference (FD)\")\n",
    "print(f\"\\ndrho[0, 0] = {drho[0, 0]}, drho_fd_00 = {drho_fd_00}\")\n",
    "print(f\"\\ndscale_d = {dscale_d}, dscale_d_fd = {dscale_d_fd}\")\n",
    "\n",
    "print(f\"\\ndE = {dE}, dE_fd = {dE_fd}, WRONG results! Please avoid gradients w.r.t self.E\")\n",
    "print(f\"This is due to the use of global variable self.E, inside a jax jitted function.\")\n",
    "\n",
    "vtk_path = os.path.join(data_dir, f'vtk/u.vtu')\n",
    "save_sol(problem.fe, sol_list[0], vtk_path)"
   ]
  },
  {
   "cell_type": "markdown",
   "id": "21ceb3b1",
   "metadata": {},
   "source": [
    "which are shown as follows:"
   ]
  },
  {
   "cell_type": "markdown",
   "id": "9a11e359",
   "metadata": {},
   "source": [
    "```bash\n",
    "Derivative comparison between automatic differentiation (AD) and finite difference (FD)\n",
    "dE = 4.0641751938577116e-07, dE_fd = 0.0, WRONG results! Please avoid gradients w.r.t self.E\n",
    "drho[0, 0] = 0.002266954599447443, drho_fd_00 = 0.0022666187078357325\n",
    "dscale_d = 431.59223609853564, dscale_d_fd = 431.80823609844765\n",
    "```"
   ]
  },
  {
   "cell_type": "markdown",
   "id": "97714320",
   "metadata": {},
   "source": [
    "> Please refer to this [link](https://github.com/deepmodeling/jax-fem/blob/main/docs/source/learn/compute_gradients/example.ipynb) to download the source file."
   ]
  }
 ],
 "metadata": {
  "language_info": {
   "name": "python"
  }
 },
 "nbformat": 4,
 "nbformat_minor": 5
}
