{
 "cells": [
  {
   "cell_type": "markdown",
   "id": "43e9a547",
   "metadata": {},
   "source": [
    "# Poisson equation"
   ]
  },
  {
   "cell_type": "markdown",
   "id": "5eb36ee6",
   "metadata": {},
   "source": [
    "## Problem definition"
   ]
  },
  {
   "cell_type": "markdown",
   "id": "ecd9efae",
   "metadata": {},
   "source": [
    "The Poisson equation, as a classical elliptic partial differential equation (PDE), governs equilibrium or steady-state diffusion processes across various physical phenomena. This example presents a computational framework for solving the boundary value problem of the Poisson equation using JAX-FEM, with particular focus on the two-dimensional domain $\\Omega=(0,1)\\times(0,1)$ under prescribed boundary conditions. Consider a domain $\\Omega \\subset \\mathbb{R}^d$ with boundary $\\partial\\Omega = \\Gamma_D \\cup \\Gamma_N$, the strong form gives:"
   ]
  },
  {
   "cell_type": "markdown",
   "id": "67523c41",
   "metadata": {},
   "source": [
    "$$\n",
    "\\begin{aligned}\n",
    "-\\nabla^2 u = b \\quad &\\text{in } \\Omega,\\\\\n",
    "u = 0 \\quad &\\text{on } \\Gamma_D,\\\\\n",
    "\\nabla u \\cdot n = t \\quad &\\text{on } \\Gamma_N.\n",
    "\\end{aligned}\n",
    "$$"
   ]
  },
  {
   "cell_type": "markdown",
   "id": "913b126f",
   "metadata": {},
   "source": [
    "where zero-valued Dirichlet boundary conditions are applied on the left and right sides, while Neumann boundary conditions with $t = \\sin(5x_1)$ are imposed on the remaining top and bottom sides. We have the following definitions:"
   ]
  },
  {
   "cell_type": "markdown",
   "id": "b8d6de2b",
   "metadata": {},
   "source": [
    "- $\\Omega = (0,1) \\times (0,1)$ (a unit square)\n",
    "- $\\Gamma_D = \\{0\\} \\times (0,1) \\cup \\{1\\} \\times (0,1) \\subset \\partial\\Omega$ (Dirichlet boundary)  \n",
    "- $\\Gamma_N = (0,1) \\times \\{0\\} \\cup (0,1) \\times \\{1\\} \\subset \\partial\\Omega$ (Neumann boundary)\n",
    "- $t = \\sin(5x_1)$"
   ]
  },
  {
   "cell_type": "markdown",
   "id": "d8f8985b",
   "metadata": {},
   "source": [
    "The source term $b$ is set as:"
   ]
  },
  {
   "cell_type": "markdown",
   "id": "02a68d00",
   "metadata": {},
   "source": [
    "$$b = 10 \\exp\\left( -\\frac{(x_1 - 0.5)^2 + (x_2 - 0.5)^2}{0.02} \\right)$$"
   ]
  },
  {
   "cell_type": "markdown",
   "id": "22671b95",
   "metadata": {},
   "source": [
    "We first derive the weak form by multiplying both sides of the governing equation by a test function $v$:\n",
    "\n",
    "$$-\\int_\\Omega (\\nabla^2 u)v \\, dx = \\int_\\Omega bv \\, dx$$\n",
    "\n",
    "Applying the divergence theorem:\n",
    "\n",
    "$$\\int_\\Omega \\nabla u \\cdot \\nabla v \\, dx - \\int_{\\partial\\Omega} \\nabla u \\cdot nv \\, ds = \\int_\\Omega bv \\, dx$$\n",
    "\n",
    "For the Dirichlet boundary $\\Gamma_D$, we have $v = 0$. Substituting the Neumann boundary conditions, we obtain the final weak form:\n",
    "\n",
    "$$\\int_\\Omega \\nabla u \\cdot \\nabla v \\, dx - \\int_\\Omega bv \\, dx - \\int_{\\Gamma_N} tv\\, ds=0$$"
   ]
  },
  {
   "cell_type": "markdown",
   "id": "c5fb010a",
   "metadata": {},
   "source": [
    "## Implementation"
   ]
  },
  {
   "cell_type": "markdown",
   "id": "edf66847",
   "metadata": {},
   "source": [
    " In JAX-FEM, we only need three steps (weak form, mesh, boundary conditions) to solve the above problem. We first import some necessary modules:"
   ]
  },
  {
   "cell_type": "code",
   "execution_count": null,
   "id": "afc60071",
   "metadata": {},
   "outputs": [],
   "source": [
    "# Import some generally useful packages.\n",
    "import jax\n",
    "import jax.numpy as np\n",
    "import os\n",
    "\n",
    "# Import `jax_fem` specific modules.\n",
    "from jax_fem.problem import Problem\n",
    "from jax_fem.solver import solver\n",
    "from jax_fem.utils import save_sol\n",
    "from jax_fem.generate_mesh import get_meshio_cell_type, Mesh, rectangle_mesh"
   ]
  },
  {
   "cell_type": "markdown",
   "id": "5c4596a1",
   "metadata": {},
   "source": [
    "### Weak form"
   ]
  },
  {
   "cell_type": "markdown",
   "id": "7603bcf6",
   "metadata": {},
   "source": [
    "We can define our problem subclass based on the `Problem` base class according to the above weak form. A key concept to define the weak form in JAX-FEM is the **kernel**, which enables us to write codes in a more general and efficient manner. This concept also appears in many other open-source finite element software (such as [Moose](https://mooseframework.inl.gov/)). JAX-FEM currently includes multiple kernel types for computing volume and surface integrals. "
   ]
  },
  {
   "cell_type": "markdown",
   "id": "17d3f6c9",
   "metadata": {},
   "source": [
    "For the volume integrals, we can use:\n",
    "\n",
    "* **Laplace Kernel**\n",
    "$$\\int_\\Omega f(\\nabla u, \\theta) \\cdot \\nabla v\\, dx$$\n",
    "\n",
    "* **Mass Kernel**\n",
    "$$\\int_\\Omega g(u, \\boldsymbol{x}, \\theta) v\\, dx$$\n",
    "\n",
    "where $u$, $\\boldsymbol{x}$ and $\\theta$ are the solution, position and parameter, respectively."
   ]
  },
  {
   "cell_type": "markdown",
   "id": "98afec52",
   "metadata": {},
   "source": [
    "For the surface integrals, we can use:\n",
    "\n",
    "* **Surface Kernel**\n",
    "$$\\int_\\Gamma t(u, \\boldsymbol{x}, \\theta)v\\, ds$$"
   ]
  },
  {
   "cell_type": "markdown",
   "id": "efe5a2cb-9e27-431b-a048-09a7c358bb4c",
   "metadata": {},
   "source": [
    "Note that we also have more advanced possible kernels to handle more general situations:\n",
    "\n",
    "* **Universal Kernel** (more general weak form definition, commonly used for multi-physics coupling problems)\n",
    "* **Universal Surface Kernel** (more general surface integral definition)"
   ]
  },
  {
   "cell_type": "code",
   "execution_count": null,
   "id": "7b6d2732",
   "metadata": {},
   "outputs": [],
   "source": [
    "# Define the weak form. \n",
    "class Poisson(Problem):\n",
    "    # The function 'get_tensor_map' overrides base class method. Generally, JAX-FEM \n",
    "    # solves -div.f(u_grad) = b. Here, we define f to be the indentity function. \n",
    "    # We will see how f is defined as more complicated to solve non-linear problems \n",
    "    # in later examples.\n",
    "    def get_tensor_map(self):\n",
    "        return lambda x: x\n",
    "    \n",
    "    # Define the source term\n",
    "    def get_mass_map(self):\n",
    "        def mass_map(u, x):\n",
    "            val = -np.array([10*np.exp(-(np.power(x[0] - 0.5, 2) + np.power(x[1] - 0.5, 2)) / 0.02)])\n",
    "            return val\n",
    "        return mass_map\n",
    "        \n",
    "    # Define the surface integral\n",
    "    def get_surface_maps(self):\n",
    "        def surface_map(u, x):\n",
    "            return -np.array([np.sin(5.*x[0])])\n",
    "\n",
    "        return [surface_map, surface_map]"
   ]
  },
  {
   "cell_type": "markdown",
   "id": "af9ec117",
   "metadata": {},
   "source": [
    "Notice that there are three terms in the weak form, and they are handled by the three kernels, respectively. \n",
    "\n",
    "The `get_tensor_map` method defines the identity mapping $f(\\nabla u)=\\nabla u$ for the **Laplace kernel**, implementing the standard diffusion term $\\int_\\Omega \\nabla u \\cdot \\nabla v \\, dx$. \n",
    "\n",
    "The `get_mass_map` method specifies the source term $g(u,\\boldsymbol{x}) = -b$ for the **Mass kernel**, implementing the source term $-\\int_\\Omega bv \\, dx$. \n",
    "\n",
    "The `get_surface_maps` defines the Neumann boundary conditions $t(u,\\boldsymbol{x}) = -t$ for the **Surface kernel**, implementing the surface term $-\\int_{\\Gamma_N} tv\\, ds$. "
   ]
  },
  {
   "cell_type": "markdown",
   "id": "78c10376",
   "metadata": {},
   "source": [
    "### Mesh"
   ]
  },
  {
   "cell_type": "markdown",
   "id": "b2b51977",
   "metadata": {},
   "source": [
    "JAX-FEM uses `meshio` to read and convert mesh data. For the simple mesh model of a unit cube in this example, we can directly use `box_mesh_gmsh` function from the `jax_fem.generate_mesh` module to generate a structured `QUAD4` mesh. For other more complex mesh models, the geometry can first be created and meshed using specialized preprocessing or commercial software. After meshing, the data can be exported as a mesh file and then imported using `meshio`. For details on how to import external meshes, you can refer to this [advanced example](https://github.com/deepmodeling/jax-fem/blob/main/applications/dynamic_relaxation/cellular_solid.py)."
   ]
  },
  {
   "cell_type": "code",
   "execution_count": null,
   "id": "d70807d6",
   "metadata": {},
   "outputs": [],
   "source": [
    "# Specify mesh-related information. \n",
    "# We make use of the external package 'meshio' and create a mesh named 'meshio_mesh', \n",
    "# then converting it into a JAX-FEM compatible one.\n",
    "ele_type = 'QUAD4'\n",
    "cell_type = get_meshio_cell_type(ele_type)\n",
    "Lx, Ly = 1., 1.\n",
    "meshio_mesh = rectangle_mesh(Nx=32, Ny=32, domain_x=Lx, domain_y=Ly)\n",
    "mesh = Mesh(meshio_mesh.points, meshio_mesh.cells_dict[cell_type])"
   ]
  },
  {
   "cell_type": "markdown",
   "id": "3fcebc90",
   "metadata": {},
   "source": [
    "### Boundary conditions"
   ]
  },
  {
   "cell_type": "markdown",
   "id": "613341d1",
   "metadata": {},
   "source": [
    "For Dirichlet boundary conditions defined on $\\Gamma_D$, we need to specify them from three aspects:\n",
    "\n",
    "`location_fns`: functions that identify the nodes to assign boundary conditions,\n",
    "\n",
    "`vec`: which component of the solution is being constrained,\n",
    "\n",
    "`value_fns`: functions that define the boundary values applied on these nodes."
   ]
  },
  {
   "cell_type": "code",
   "execution_count": null,
   "id": "488cdcde",
   "metadata": {},
   "outputs": [],
   "source": [
    "# Define boundary locations.\n",
    "def left(point):\n",
    "    return np.isclose(point[0], 0., atol=1e-5)\n",
    "\n",
    "def right(point):\n",
    "    return np.isclose(point[0], Lx, atol=1e-5)\n",
    "\n",
    "def bottom(point):\n",
    "    return np.isclose(point[1], 0., atol=1e-5)\n",
    "\n",
    "def top(point):\n",
    "    return np.isclose(point[1], Ly, atol=1e-5)\n",
    "\n",
    "# Define value functions.\n",
    "def dirichlet_val_left(point):\n",
    "    return 0.\n",
    "\n",
    "def dirichlet_val_right(point):\n",
    "    return 0.\n",
    "\n",
    "location_fns_dirichlet = [left, right]\n",
    "value_fns = [dirichlet_val_left, dirichlet_val_right]\n",
    "vecs = [0, 0]\n",
    "\n",
    "# Define Dirichlet boundary information. \n",
    "# On the 'left' side, we apply 'dirichlet_val_left' to the 0 component of the solution variable; \n",
    "# on the 'right' side, we apply 'dirichlet_val_right' to the 0 component of the solution variable.\n",
    "dirichlet_bc_info = [location_fns_dirichlet, vecs, value_fns]"
   ]
  },
  {
   "cell_type": "markdown",
   "id": "57d88793",
   "metadata": {},
   "source": [
    "For Neumann boundary conditions, we need to specify:\n",
    "\n",
    "`location_fns`: functions that identify the boundary nodes where surface integrals will be evaluated."
   ]
  },
  {
   "cell_type": "code",
   "execution_count": null,
   "id": "7376f5d8",
   "metadata": {},
   "outputs": [],
   "source": [
    "# Define Neumann boundary locations.\n",
    "# This means on the 'bottom' and 'top' side, we will perform the surface integral \n",
    "# with the function 'get_surface_maps' defined in the class 'Poisson'.\n",
    "location_fns = [bottom, top]"
   ]
  },
  {
   "cell_type": "markdown",
   "id": "67d6924b",
   "metadata": {},
   "source": [
    "### Problem"
   ]
  },
  {
   "cell_type": "markdown",
   "id": "e852dfc8",
   "metadata": {},
   "source": [
    "We have completed all the preliminary preparations for the problem. Then we can proceed to create an instance of our problem:"
   ]
  },
  {
   "cell_type": "code",
   "execution_count": null,
   "id": "6cbd73ee",
   "metadata": {},
   "outputs": [],
   "source": [
    "# Create an instance of the Class 'Poisson'. \n",
    "# Here, 'vec' is the number of components for the solution, and 'dim' is the spatial dimension.\n",
    "problem = Poisson(mesh=mesh, vec=1, dim=2, ele_type=ele_type, dirichlet_bc_info=dirichlet_bc_info, location_fns=location_fns)"
   ]
  },
  {
   "cell_type": "markdown",
   "id": "c3c75793",
   "metadata": {},
   "source": [
    "### Solver"
   ]
  },
  {
   "cell_type": "markdown",
   "id": "9125ea9d",
   "metadata": {},
   "source": [
    "The instance is then passed to `solver` function to solve the defined problem using the Newton-Raphson method defined in `jax_fem.solver.solve` function. "
   ]
  },
  {
   "cell_type": "code",
   "execution_count": null,
   "id": "f837e331",
   "metadata": {},
   "outputs": [],
   "source": [
    "# Solve the problem. \n",
    "# solver_options can be changed for other linear solver options\n",
    "sol = solver(problem)"
   ]
  },
  {
   "cell_type": "markdown",
   "id": "62bd6515",
   "metadata": {},
   "source": [
    "The default solver is the Bi-Conjugate Gradient Stable iteration solver in `jax`. You can also change the solver to `PETsc` or `UMFPACK` wrapped in `scipy`  and specify the options. For example:"
   ]
  },
  {
   "cell_type": "code",
   "execution_count": null,
   "id": "e5e6c1e8",
   "metadata": {},
   "outputs": [],
   "source": [
    "## scipy.sparse.linalg.spsolve\n",
    "# sol = solver(problem, solver_options={'umfpack_solver': {}})\n",
    "\n",
    "## PETSc\n",
    "# sol = solver(problem, solver_options={'petsc_solver': {'ksp_type': 'bcgsl', 'pc_type': 'ilu'}})"
   ]
  },
  {
   "cell_type": "markdown",
   "id": "84e04d5f",
   "metadata": {},
   "source": [
    "If you have a personal implementation of the linear equation solver, you can also set the solution function in the `solver_options` to use it, see the [linear elasticity example](https://deepmodeling.github.io/jax-fem/learn/linear_elasticity/example.html) for details."
   ]
  },
  {
   "cell_type": "markdown",
   "id": "28a4fbdf",
   "metadata": {},
   "source": [
    "### Postprocessing"
   ]
  },
  {
   "cell_type": "markdown",
   "id": "55a4955b",
   "metadata": {},
   "source": [
    "The solution can be exported to VTK format files (readable by ParaView and other post-processing software) using the built-in function `save_sol`:"
   ]
  },
  {
   "cell_type": "code",
   "execution_count": null,
   "id": "047d50aa",
   "metadata": {},
   "outputs": [],
   "source": [
    "# Save the solution to a local folder that can be visualized with ParaWiew.\n",
    "data_dir = os.path.join(os.path.dirname(__file__), 'data')\n",
    "vtk_path = os.path.join(data_dir, f'vtk/u.vtu')\n",
    "save_sol(problem.fes[0], sol[0], vtk_path)"
   ]
  },
  {
   "cell_type": "markdown",
   "id": "b2b8b90a",
   "metadata": {},
   "source": [
    "<center>\n",
    "  <img src=\"../../_static/images/poisson_learn.png\" width=\"400\" />\n",
    "  <p><em>Solution to the Poisson's equation.</em></p>\n",
    "</center>"
   ]
  },
  {
   "cell_type": "markdown",
   "id": "a6157264",
   "metadata": {},
   "source": [
    "> Please refer to this [link](https://github.com/deepmodeling/jax-fem/blob/main/docs/source/learn/poisson/example.ipynb) to download the source file."
   ]
  }
 ],
 "metadata": {
  "language_info": {
   "name": "python"
  }
 },
 "nbformat": 4,
 "nbformat_minor": 5
}
