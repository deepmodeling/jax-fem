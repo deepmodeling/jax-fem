{
 "cells": [
  {
   "cell_type": "markdown",
   "id": "a7478e8c",
   "metadata": {},
   "source": [
    "# Linear elasticity"
   ]
  },
  {
   "cell_type": "markdown",
   "id": "15adb5c5",
   "metadata": {},
   "source": [
    "## Problem definition"
   ]
  },
  {
   "cell_type": "markdown",
   "id": "87d60e3d-7d0f-4e84-8ebf-2866b1ffc14c",
   "metadata": {},
   "source": [
    "In this example, we use a cantilever beam example to demonstrate how to solve linear elasticity problems with JAX-FEM, beginning with its mathematical formulation. The governing equation for linear elasticity of a body $\\Omega$ can be written as\n",
    "\n",
    "$$\n",
    "\\begin{align*}\n",
    "    -\\nabla \\cdot \\boldsymbol{\\sigma}  = \\boldsymbol{b} & \\quad \\textrm{in}  \\nobreakspace \\nobreakspace \\Omega, \\\\\n",
    "    \\boldsymbol{u} = \\boldsymbol{u}_D &  \\quad\\textrm{on} \\nobreakspace \\nobreakspace \\Gamma_D,  \\\\\n",
    "    \\boldsymbol{\\sigma}  \\cdot \\boldsymbol{n} = \\boldsymbol{t}  & \\quad \\textrm{on} \\nobreakspace \\nobreakspace \\Gamma_N.\n",
    "\\end{align*}\n",
    "$$\n",
    "\n",
    "The weak form gives\n",
    "\n",
    "$$\n",
    "\\begin{align*}\n",
    "\\int_{\\Omega}  \\boldsymbol{\\sigma} : \\nabla \\boldsymbol{v} \\nobreakspace \\nobreakspace \\textrm{d}x - \\int_{\\Omega} \\boldsymbol{b}  \\cdot \\boldsymbol{v} \\nobreakspace \\textrm{d}x - \\int_{\\Gamma_N} \\boldsymbol{t} \\cdot \\boldsymbol{v} \\nobreakspace\\nobreakspace \\textrm{d}s = 0.\n",
    "\\end{align*}\n",
    "$$\n",
    "\n",
    "We consider a vertical bending load applied to the right side of the beam ($\\boldsymbol{t}=[0, 0, -100]$) while fixing the left side ($\\boldsymbol{u}_D=[0,0,0]$), and ignore body force ($\\boldsymbol{b}=[0,0,0]$). The constitutive relationship is given by\n",
    "\n",
    "$$\n",
    "\\begin{align*}\n",
    "     \\boldsymbol{\\sigma} &=  \\lambda \\nobreakspace \\textrm{tr}(\\boldsymbol{\\varepsilon}) \\boldsymbol{I} + 2\\mu \\nobreakspace \\boldsymbol{\\varepsilon}, \\\\\n",
    "    \\boldsymbol{\\varepsilon} &= \\frac{1}{2}\\left[\\nabla\\boldsymbol{u} + (\\nabla\\boldsymbol{u})^{\\top}\\right].\n",
    "\\end{align*}\n",
    "$$"
   ]
  },
  {
   "cell_type": "markdown",
   "id": "83e922bb",
   "metadata": {},
   "source": [
    "## Implementation"
   ]
  },
  {
   "cell_type": "markdown",
   "id": "69840bb1",
   "metadata": {},
   "source": [
    "We follow the similar three steps to solve the above boundary value problem (BVP). Again, we first import some necessary modules."
   ]
  },
  {
   "cell_type": "code",
   "execution_count": null,
   "id": "0a02cf32-f610-4b69-a7f4-8d837c2d37a4",
   "metadata": {},
   "outputs": [],
   "source": [
    "# Import some useful modules.\n",
    "import jax.numpy as np\n",
    "import numpy as onp\n",
    "import os\n",
    "import pypardiso\n",
    "import scipy\n",
    "\n",
    "# Import JAX-FEM specific modules.\n",
    "from jax_fem.problem import Problem\n",
    "from jax_fem.solver import solver\n",
    "from jax_fem.utils import save_sol\n",
    "from jax_fem.generate_mesh import box_mesh_gmsh, get_meshio_cell_type, Mesh\n",
    "from jax_fem import logger\n",
    "\n",
    "import logging\n",
    "logger.setLevel(logging.DEBUG)"
   ]
  },
  {
   "cell_type": "markdown",
   "id": "b859dc69-da23-437e-8363-b0f0696a2bc1",
   "metadata": {},
   "source": [
    "### Weak Form\n",
    "\n",
    "As mentioned in the [poisson equation  example](https://deepmodeling.github.io/jax-fem/learn/poisson/example.html), the weak form of the above BVP is defined in a subclass based on the `Problem` base class, where the **Laplace Kernel** and **Surface Kernel** are used."
   ]
  },
  {
   "cell_type": "code",
   "execution_count": null,
   "id": "d891a7ef-c375-41a5-8fcb-e4a818cc89db",
   "metadata": {},
   "outputs": [],
   "source": [
    "# Material properties.\n",
    "E = 70e3\n",
    "nu = 0.3\n",
    "mu = E/(2.*(1.+nu))\n",
    "lmbda = E*nu/((1+nu)*(1-2*nu))\n",
    "\n",
    "# Weak forms.\n",
    "class LinearElasticity(Problem):\n",
    "    # The function 'get_tensor_map' overrides base class method. Generally, JAX-FEM \n",
    "    # solves -div(f(u_grad)) = b. Here, we have f(u_grad) = sigma.\n",
    "    def get_tensor_map(self):\n",
    "        def stress(u_grad):\n",
    "            epsilon = 0.5 * (u_grad + u_grad.T)\n",
    "            sigma = lmbda * np.trace(epsilon) * np.eye(self.dim) + 2*mu*epsilon\n",
    "            return sigma\n",
    "        return stress\n",
    "\n",
    "    def get_surface_maps(self):\n",
    "        def surface_map(u, x):\n",
    "            return np.array([0., 0., 100.])\n",
    "        return [surface_map]"
   ]
  },
  {
   "cell_type": "markdown",
   "id": "5bb4a628-53f9-45ba-bc1c-83ecec0cb7a5",
   "metadata": {},
   "source": [
    "### Mesh\n",
    "\n",
    "We now define the mesh, starting by specifying the second-order tetrahedral element type `TET10` and determining its corresponding cell identifier via `get_meshio_cell_type`. After configuring a script-relative data directory, we call `box_mesh_gmsh` (which interfaces with `Gmsh`) to generate the mesh based on prescribed rectangular domain dimensions and resolution parameters. The resulting mesh's nodal coordinates and element connectivities are then used to instantiate the solver-ready `Mesh` object."
   ]
  },
  {
   "cell_type": "code",
   "execution_count": null,
   "id": "2f22821a-b883-4bea-b011-410818b54f02",
   "metadata": {},
   "outputs": [],
   "source": [
    "# Specify mesh-related information (second-order tetrahedron element).\n",
    "ele_type = 'TET10'\n",
    "cell_type = get_meshio_cell_type(ele_type)\n",
    "data_dir = os.path.join(os.path.dirname(__file__), 'data')\n",
    "Lx, Ly, Lz = 10., 2., 2.\n",
    "Nx, Ny, Nz = 25, 5, 5\n",
    "meshio_mesh = box_mesh_gmsh(Nx=Nx,\n",
    "                       Ny=Ny,\n",
    "                       Nz=Nz,\n",
    "                       Lx=Lx,\n",
    "                       Ly=Ly,\n",
    "                       Lz=Lz,\n",
    "                       data_dir=data_dir,\n",
    "                       ele_type=ele_type)\n",
    "mesh = Mesh(meshio_mesh.points, meshio_mesh.cells_dict[cell_type])"
   ]
  },
  {
   "cell_type": "markdown",
   "id": "bfa1dd44",
   "metadata": {},
   "source": [
    " ### Boundary conditions"
   ]
  },
  {
   "cell_type": "markdown",
   "id": "2e3466c6-c5a8-4e63-ba26-bf34620868f3",
   "metadata": {},
   "source": [
    "This example implements two boundary condition types. For the Dirichlet boundary condition, we specify the geometric locations, directional components, and constrained values. The Neumann boundary condition requires only location specification, as the surface tractions are inherently defined within the `Problem` subclass via the `get_surface_maps` function."
   ]
  },
  {
   "cell_type": "code",
   "execution_count": null,
   "id": "0f17cb64-e8f9-485f-bc24-5e83eb8b820f",
   "metadata": {},
   "outputs": [],
   "source": [
    "# Define boundary locations.\n",
    "def left(point):\n",
    "    return np.isclose(point[0], 0., atol=1e-5)\n",
    "\n",
    "def right(point):\n",
    "    return np.isclose(point[0], Lx, atol=1e-5)\n",
    "\n",
    "\n",
    "# Define value function.\n",
    "def zero_dirichlet_val(point):\n",
    "    return 0.\n",
    "\n",
    "# Define Dirichlet boundary values.\n",
    "# This means on the 'left' side, we apply the function 'zero_dirichlet_val' \n",
    "# to all components of the displacement variable u.\n",
    "dirichlet_bc_info = [[left] * 3, [0, 1, 2], [zero_dirichlet_val] * 3]\n",
    "\n",
    "# Define Neumann boundary locations.\n",
    "# This means on the 'right' side, we will perform the surface integral to get \n",
    "# the tractions with the function 'get_surface_maps' defined in the class 'LinearElasticity'.\n",
    "location_fns = [right]"
   ]
  },
  {
   "cell_type": "markdown",
   "id": "6fdcce97-8ff8-4084-9285-7fa255c62ed8",
   "metadata": {},
   "source": [
    "### Problem\n",
    "\n",
    "Having completed the weak form formulation, mesh generation, and boundary condition specification, we now create a instance of the defined BVP:"
   ]
  },
  {
   "cell_type": "code",
   "execution_count": null,
   "id": "30570590-c094-4904-a5de-e41ca0e2087a",
   "metadata": {},
   "outputs": [],
   "source": [
    "# Create an instance of the problem.\n",
    "problem = LinearElasticity(mesh,\n",
    "                           vec=3,\n",
    "                           dim=3,\n",
    "                           ele_type=ele_type,\n",
    "                           dirichlet_bc_info=dirichlet_bc_info,\n",
    "                           location_fns=location_fns)"
   ]
  },
  {
   "cell_type": "markdown",
   "id": "dea26826-8db8-4d3b-9e27-1b85482fb920",
   "metadata": {},
   "source": [
    "### Solver\n",
    "\n",
    "Here we choose to solve the problem via the customized `Pardiso` solver. We first define a solution function `pardiso_solver` that accepts the coefficient matrix $\\boldsymbol{A}$, right-hand side $\\boldsymbol{b}$, initial value $\\boldsymbol{x}_0$, and solver options."
   ]
  },
  {
   "cell_type": "code",
   "execution_count": null,
   "id": "254d0a33-a694-4b56-b28d-dd91ea31b9ad",
   "metadata": {},
   "outputs": [],
   "source": [
    "def pardiso_solver(A, b, x0, solver_options):\n",
    "    \"\"\"\n",
    "    Solves Ax=b with x0 being the initial guess.\n",
    "\n",
    "    A: PETSc sparse matrix\n",
    "    b: JaxArray\n",
    "    x0: JaxArray (forward problem) or None (adjoint problem)\n",
    "    solver_options: anything the user defines, at least satisfying solver_options['custom_solver'] = pardiso_solver\n",
    "    \"\"\"\n",
    "    logger.debug(f\"Pardiso Solver - Solving linear system\")\n",
    "\n",
    "    # If you need to convert PETSc to scipy\n",
    "    indptr, indices, data = A.getValuesCSR()\n",
    "    A_sp_scipy = scipy.sparse.csr_array((data, indices, indptr), shape=A.getSize())\n",
    "    x = pypardiso.spsolve(A_sp_scipy, onp.array(b))\n",
    "    return x"
   ]
  },
  {
   "cell_type": "markdown",
   "id": "d1df2561",
   "metadata": {},
   "source": [
    "Then we can pass the customized solution function into the `solver_options` and solve the problem:"
   ]
  },
  {
   "cell_type": "code",
   "execution_count": null,
   "id": "325e311b",
   "metadata": {},
   "outputs": [],
   "source": [
    "# Solve the defined problem.\n",
    "sol_list = solver(problem, solver_options={'custom_solver': pardiso_solver})"
   ]
  },
  {
   "cell_type": "markdown",
   "id": "834d9ab0-2787-4939-942f-ad00a6dffc60",
   "metadata": {},
   "source": [
    "### Postprocessing\n",
    "\n",
    "Finally, we can compute the cell-level average von Mises stresses from the solution: "
   ]
  },
  {
   "cell_type": "code",
   "execution_count": null,
   "id": "f8bf0553-c3c3-4efd-b1a9-0daee4b765d0",
   "metadata": {},
   "outputs": [],
   "source": [
    "# Postprocess for stress evaluations\n",
    "# (num_cells, num_quads, vec, dim)\n",
    "u_grad = problem.fes[0].sol_to_grad(sol_list[0])\n",
    "epsilon = 0.5 * (u_grad + u_grad.transpose(0,1,3,2))\n",
    "# (num_cells, bnum_quads, 1, 1) * (num_cells, num_quads, vec, dim)\n",
    "# -> (num_cells, num_quads, vec, dim)\n",
    "sigma = lmbda * np.trace(epsilon, axis1=2, axis2=3)[:,:,None,None] * np.eye(problem.dim) + 2*mu*epsilon\n",
    "# (num_cells, num_quads)\n",
    "cells_JxW = problem.JxW[:,0,:]\n",
    "# (num_cells, num_quads, vec, dim) * (num_cells, num_quads, 1, 1) ->\n",
    "# (num_cells, vec, dim) / (num_cells, 1, 1)\n",
    "#  --> (num_cells, vec, dim)\n",
    "sigma_average = np.sum(sigma * cells_JxW[:,:,None,None], axis=1) / np.sum(cells_JxW, axis=1)[:,None,None]\n",
    "\n",
    "# Von Mises stress\n",
    "# (num_cells, dim, dim)\n",
    "s_dev = (sigma_average - 1/problem.dim * np.trace(sigma_average, axis1=1, axis2=2)[:,None,None]\n",
    "                                       * np.eye(problem.dim)[None,:,:])\n",
    "# (num_cells,)\n",
    "vm_stress = np.sqrt(3./2.*np.sum(s_dev*s_dev, axis=(1,2)))"
   ]
  },
  {
   "cell_type": "markdown",
   "id": "aff8f205",
   "metadata": {},
   "source": [
    "and store the results in VTK format for visualization:"
   ]
  },
  {
   "cell_type": "code",
   "execution_count": null,
   "id": "c866e83a",
   "metadata": {},
   "outputs": [],
   "source": [
    "# Store the solution to local file.\n",
    "vtk_path = os.path.join(data_dir, 'vtk/u.vtu')\n",
    "save_sol(problem.fes[0], sol_list[0], vtk_path, cell_infos=[('vm_stress', vm_stress)])"
   ]
  },
  {
   "cell_type": "markdown",
   "id": "5096be2d",
   "metadata": {},
   "source": [
    "<center>\n",
    "  <img src=\"../../_static/images/linear_elasticity.png\" width=\"400\" />\n",
    "  <p><em>Solution to the linear elasticity problem.</em></p>\n",
    "</center>"
   ]
  },
  {
   "cell_type": "markdown",
   "id": "c6e906b4",
   "metadata": {},
   "source": [
    "> Please refer to this [link](https://github.com/deepmodeling/jax-fem/blob/main/docs/source/learn/linear_elasticity/example.ipynb) to download the source file."
   ]
  }
 ],
 "metadata": {
  "language_info": {
   "name": "python"
  }
 },
 "nbformat": 4,
 "nbformat_minor": 5
}
