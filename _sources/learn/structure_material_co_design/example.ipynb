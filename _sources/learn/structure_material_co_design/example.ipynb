{
 "cells": [
  {
   "cell_type": "markdown",
   "id": "c2c52d62",
   "metadata": {},
   "source": [
    "# Structure/material co-design\n",
    "## Problem definition\n",
    "In this example, we consider a co-design problem of structure and material based on a J2-plasticity model. The objective function in this problem is the compliance of the structure. The design variables are the two virtual densities $\\boldsymbol{\\rho}_1$ and $\\boldsymbol{\\rho}_2$, which decides the Young's modulus (structure) and yield stress (material) of the cells in the finite element mesh. Since we will solve a J2-plasticity problem, we need to consider variables such as strain $\\boldsymbol{\\varepsilon}^{n-1}$, stress $\\boldsymbol{\\sigma}^{n-1}$, the value of yield function $f_{\\text{yield}}^{n-1}$ and value of the Neumann boundary condition $\\boldsymbol{t}^n$ following the loading steps in the forward problem. \n",
    "\n",
    "The target of this tutorial is to use JAX-FEM to automatically find the gradient of the objective function with respect to the design variables $\\boldsymbol{\\rho}_1$ and $\\boldsymbol{\\rho}_2$.\n",
    "\n",
    "Similar to the [plasticity example](https://deepmodeling.github.io/jax-fem/learn/plasticity/example.html), we assume that the total strain $\\boldsymbol{\\varepsilon}^{n-1}$ and stress $\\boldsymbol{\\sigma}^{n-1}$ from the previous loading step are known, and the problem states that find the displacement field $\\boldsymbol{u}^n$ at the current loading step such that\n",
    "\n",
    "$$\n",
    "-\\nabla \\cdot \\left( \\boldsymbol{\\sigma}^n(\\nabla \\boldsymbol{u}^n, \\boldsymbol{\\varepsilon}^{n-1}, \\boldsymbol{\\sigma}^{n-1}) \\right) = \\boldsymbol{0} \\quad \\text{in } \\Omega,\n",
    "$$\n",
    "\n",
    "$$\n",
    "\\boldsymbol{u}^n = \\boldsymbol{0} \\quad \\text{on } \\Gamma_D,\n",
    "$$\n",
    "\n",
    "$$\n",
    "\\boldsymbol{\\sigma}^n \\cdot \\boldsymbol{n} = \\boldsymbol{t}^n \\quad \\text{on } \\Gamma_N.\n",
    "$$\n",
    "\n",
    "The stress $\\boldsymbol{\\sigma}^n$ is defined with the following relationships:\n",
    "\n",
    "$$\n",
    "\\boldsymbol{\\sigma}_{\\text{trial}} = \\boldsymbol{\\sigma}^{n-1} + \\Delta\\boldsymbol{\\sigma},\n",
    "$$\n",
    "\n",
    "$$\n",
    "\\Delta\\boldsymbol{\\sigma} = \\lambda \\text{tr}(\\Delta\\boldsymbol{\\varepsilon})\\boldsymbol{I} + 2\\mu \\Delta\\boldsymbol{\\varepsilon},\n",
    "$$\n",
    "\n",
    "$$\n",
    "\\Delta\\boldsymbol{\\varepsilon} = \\boldsymbol{\\varepsilon}^n - \\boldsymbol{\\varepsilon}^{n-1} = \\frac{1}{2}\\left[ \\nabla \\boldsymbol{u}^n + (\\nabla \\boldsymbol{u}^n)^T \\right] - \\boldsymbol{\\varepsilon}^{n-1},\n",
    "$$\n",
    "\n",
    "$$\n",
    "\\boldsymbol{s} = \\boldsymbol{\\sigma}_{\\text{trial}} - \\frac{1}{3}\\text{tr}(\\boldsymbol{\\sigma}_{\\text{trial}})\\boldsymbol{I},\n",
    "$$\n",
    "\n",
    "$$\n",
    "s = \\sqrt{\\frac{3}{2}\\boldsymbol{s}:\\boldsymbol{s}},\n",
    "$$\n",
    "\n",
    "$$\n",
    "f_{\\text{yield}}^{n} = s - \\sigma_{\\text{yield}},\n",
    "$$\n",
    "\n",
    "$$\n",
    "\\boldsymbol{\\sigma}^n = \\boldsymbol{\\sigma}_{\\text{trial}} - \\frac{\\boldsymbol{s}}{s}\\langle f_{\\text{yield}}^{n} \\rangle_+,\n",
    "$$\n",
    "\n",
    "where $\\boldsymbol{\\sigma}_{\\text{trial}}$ is the elastic trial stress, $\\boldsymbol{s}$ is the deviatoric part of $\\boldsymbol{\\sigma}_{\\text{trial}}$, $f_{\\text{yield}}^{n}$ is the yield function, $\\sigma_{\\text{yield}}$ is the yield strength, and $\\boldsymbol{\\sigma}^n$ is the stress at the current loading step.\n",
    "\n",
    "### Domain and boundary conditions\n",
    "- $\\Omega = (0,50) \\times (0,30) \\times (0,1)$\n",
    "- $\\Gamma_D = \\{(0, x_2, x_3) \\subset \\partial \\Omega\\}$  (Dirichlet boundary)  \n",
    "- $\\Gamma_N = \\{(50, 15, x_3) \\subset \\partial \\Omega\\}$  (Neumann boundary with varing traction $\\boldsymbol{t}^n$)\n",
    "\n",
    "In this example, we consider a traction-controlled loading condition. We assume quasi-static loadings from 0.2 to 1 on the Neumann boundary.\n",
    "\n",
    "<center>\n",
    "  <img src=\"../../_static/images/material_structure_co_design_bc.png\" width=\"1600\" />\n",
    "  <p><em>Boundary conditions.</em></p>\n",
    "</center>\n",
    "\n",
    "### Weak form\n",
    "\n",
    "The weak form gives\n",
    "\n",
    "$$\n",
    "    \\int_\\Omega \\boldsymbol{\\sigma}^n : \\nabla \\boldsymbol{v} \\text{d}x = \\int_\\Omega \\boldsymbol{b} \\cdot \\boldsymbol{v} \\text{d}x + \\int_{\\Gamma_N} \\boldsymbol{t}^n \\cdot \\boldsymbol{v} \\text{d}s.\n",
    "$$\n",
    "\n",
    "### Optimization problem\n",
    "\n",
    "The topology optimization problem subject to the PDE constraint and two volume constraints:  \n",
    "\n",
    "$$\n",
    "\\begin{aligned}\n",
    "\\min_{\\boldsymbol{\\rho}} \\quad & \\int_{\\Gamma_N} \\boldsymbol{t}^N \\cdot \\boldsymbol{u}^N  \\mathrm{d} \\Gamma \\\\\n",
    "\\text{s.t.} &\\quad r(\\boldsymbol{u}^n; \\boldsymbol{v}) = 0\\\\\n",
    "            &\\int_{\\Omega} \\rho_1 \\textrm{d}\\Omega - \\bar{v}_1 \\int_{\\Omega} \\textrm{d}\\Omega \\leq 0 \\\\\n",
    "            &\\int_{\\Omega} \\rho_2 \\textrm{d}\\Omega - \\bar{v}_2 \\int_{\\Omega} \\textrm{d}\\Omega \\leq 0.\n",
    "\\end{aligned}\n",
    "$$\n",
    "\n",
    "It should be noted that $n=1,2,...,N$, and there are $N$ quasi-static loading steps that gradually increase the loading amount. The objective function depends on the compliance at the final step $N$. You don't have to worry about the accumulated effects on taking the derivative, since JAX-FEM will take care of that.\n",
    "\n",
    "## Implementation\n",
    "\n",
    "For the implementation, we first import some necessary modules.\n"
   ]
  },
  {
   "cell_type": "code",
   "execution_count": 6,
   "id": "be492992",
   "metadata": {},
   "outputs": [],
   "source": [
    "import numpy as onp\n",
    "import jax\n",
    "import jax.numpy as np\n",
    "import os\n",
    "import glob\n",
    "import logging\n",
    "\n",
    "from jax_fem.problem import Problem\n",
    "from jax_fem.generate_mesh import Mesh, box_mesh_gmsh, get_meshio_cell_type\n",
    "from jax_fem.solver import ad_wrapper\n",
    "from jax_fem.utils import save_sol\n",
    "from jax_fem.mma import optimize\n",
    "from jax_fem import logger\n",
    "\n",
    "logger.setLevel(logging.INFO)\n",
    "os.environ[\"CUDA_VISIBLE_DEVICES\"] = \"0\""
   ]
  },
  {
   "cell_type": "markdown",
   "id": "1d1a07b5",
   "metadata": {},
   "source": [
    "### Weak form\n",
    "\n",
    "In the method `custom_init`, we mark all cells as design-dependent for optimization by setting `flex_inds` as the number of cells."
   ]
  },
  {
   "cell_type": "code",
   "execution_count": null,
   "id": "ab09f16a",
   "metadata": {},
   "outputs": [],
   "source": [
    "class Plasticity(Problem):\n",
    "    def custom_init(self):\n",
    "        self.fe = self.fes[0]\n",
    "        self.fe.flex_inds = np.arange(len(self.fe.cells))"
   ]
  },
  {
   "cell_type": "markdown",
   "id": "5736473d",
   "metadata": {},
   "source": [
    "A traction force on the surface (Y-direction), which is the Neumann boundary condition, is defined with the method `get_surface_maps`. The value of the traction force $\\boldsymbol{t}^n$ in each loading step is passed into the method as the third argument of the function `surface_map`."
   ]
  },
  {
   "cell_type": "code",
   "execution_count": null,
   "id": "c767e9b8",
   "metadata": {},
   "outputs": [],
   "source": [
    "    def get_surface_maps(self):\n",
    "        def surface_map(u, x, load_value):\n",
    "            return np.array([0., load_value, 0.])\n",
    "        return [surface_map]"
   ]
  },
  {
   "cell_type": "markdown",
   "id": "5a9a9e40",
   "metadata": {},
   "source": [
    "We define a function `get_maps` to realize the computation of strain $\\boldsymbol{\\varepsilon}^n$, stress $\\boldsymbol{\\sigma}^n$ and yield function $f_{\\text{yield}}^{n}$. Readers can refer to the [plasticity example](https://deepmodeling.github.io/jax-fem/learn/plasticity/example.html) for more details. The difference here between this and the previous example is that the Young's modulus and the yield stress of the material are depended on the virtual densities $\\boldsymbol{\\rho}_1$ and $\\boldsymbol{\\rho}_2$ respectively."
   ]
  },
  {
   "cell_type": "code",
   "execution_count": null,
   "id": "8c90dbb8",
   "metadata": {},
   "outputs": [],
   "source": [
    "    def get_tensor_map(self):\n",
    "        _, stress_return_map, _ = self.get_maps()\n",
    "        return stress_return_map\n",
    "\n",
    "    def get_maps(self):\n",
    "        def safe_sqrt(x):  \n",
    "            safe_x = np.where(x > 0., np.sqrt(x), 0.)\n",
    "            return safe_x\n",
    "\n",
    "        def safe_divide(x, y):\n",
    "            return np.where(y == 0., 0., x/y)\n",
    "\n",
    "        def strain(u_grad):\n",
    "            epsilon = 0.5*(u_grad + u_grad.T)\n",
    "            return epsilon\n",
    "\n",
    "        def stress(epsilon, E):\n",
    "            nu = 0.3\n",
    "            mu = E/(2.*(1. + nu))\n",
    "            lmbda = E*nu/((1+nu)*(1-2*nu))\n",
    "            sigma = lmbda*np.trace(epsilon)*np.eye(self.dim) + 2*mu*epsilon\n",
    "            return sigma\n",
    "\n",
    "        def stress_return_map_helper(u_grad, sigma_old, epsilon_old, f_yield_old, theta):\n",
    "            theta1, theta2 = theta\n",
    "            Emax = 70.e3\n",
    "            Emin = 70.\n",
    "            penal = 3.\n",
    "            E = Emin + (Emax - Emin)*theta1**penal\n",
    "            sig0 = 250. + theta2*100\n",
    "            epsilon_crt = strain(u_grad)\n",
    "            epsilon_inc = epsilon_crt - epsilon_old\n",
    "            sigma_trial = stress(epsilon_inc, E) + sigma_old\n",
    "            s_dev = sigma_trial - 1./self.dim*np.trace(sigma_trial)*np.eye(self.dim)\n",
    "            s_norm = safe_sqrt(3./2.*np.sum(s_dev*s_dev))\n",
    "            f_yield = s_norm - sig0\n",
    "            f_yield_plus = np.where(f_yield > 0., f_yield, 0.)\n",
    "            sigma = sigma_trial - safe_divide(f_yield_plus*s_dev, s_norm)\n",
    "            return sigma, f_yield\n",
    "\n",
    "        def stress_return_map(*args):\n",
    "            return stress_return_map_helper(*args)[0]\n",
    "\n",
    "        def f_yield_fn(*args):\n",
    "            return stress_return_map_helper(*args)[1]\n",
    "\n",
    "        return strain, stress_return_map, f_yield_fn"
   ]
  },
  {
   "cell_type": "markdown",
   "id": "481e2521",
   "metadata": {},
   "source": [
    "Function `stress_strain_fns` vectorizes the computation of $f_{\\text{yield}}^{n}$, $\\boldsymbol{\\sigma}^n$ and $\\boldsymbol{\\varepsilon}^n$ with `jax.vmap`. It will be called in function `update_stress_strain`."
   ]
  },
  {
   "cell_type": "code",
   "execution_count": null,
   "id": "6cba4f5c",
   "metadata": {},
   "outputs": [],
   "source": [
    "    def stress_strain_fns(self):\n",
    "        strain, stress_return_map, f_yield_fn = self.get_maps()\n",
    "        vmap_strain = jax.vmap(jax.vmap(strain))\n",
    "        vmap_stress_return_map = jax.vmap(jax.vmap(stress_return_map))\n",
    "        vmap_f_yield_fn = jax.vmap(jax.vmap(f_yield_fn))\n",
    "        return vmap_strain, vmap_stress_return_map, vmap_f_yield_fn\n",
    "\n",
    "    def update_stress_strain(self, sol, params):\n",
    "        u_grads = self.fe.sol_to_grad(sol)\n",
    "        vmap_strain, vmap_stress_rm, vmap_f_yield_fn = self.stress_strain_fns()\n",
    "        sigmas_old, epsilons_old, f_yield_old,  thetas = params\n",
    "        sigmas_update = vmap_stress_rm(u_grads, sigmas_old, epsilons_old, f_yield_old, thetas)\n",
    "        epsilons_update = vmap_strain(u_grads)\n",
    "        f_yield_update = vmap_f_yield_fn(u_grads, sigmas_old, epsilons_old, f_yield_old, thetas)\n",
    "        return sigmas_update, epsilons_update, f_yield_update, thetas"
   ]
  },
  {
   "cell_type": "markdown",
   "id": "a8fabd85",
   "metadata": {},
   "source": [
    "The `set_params` method updates the internal variables (`internal_vars`) and the value of the Neumann boundary condition (`internal_vars_surfaces`). The internal variables here include $\\boldsymbol{\\sigma}^{n-1}$, $\\boldsymbol{\\varepsilon}^{n-1}$, $f_{\\text{yield}}^{n-1}$ and $\\boldsymbol{\\rho}$ ($\\boldsymbol{\\rho}_1$ and $\\boldsymbol{\\rho}_2$)."
   ]
  },
  {
   "cell_type": "code",
   "execution_count": null,
   "id": "a081c59f",
   "metadata": {},
   "outputs": [],
   "source": [
    "    def set_params(self, params):\n",
    "        body_params, surface_params = params\n",
    "        self.internal_vars = body_params\n",
    "        # Generally, [[surface1_params1, surface1_params2, ...], [surface2_params1, surface2_params2, ...], ...]\n",
    "        self.internal_vars_surfaces = [[surface_params]]"
   ]
  },
  {
   "cell_type": "markdown",
   "id": "60288bf9",
   "metadata": {},
   "source": [
    "Function `init_params` initializes the arrays for $\\boldsymbol{\\sigma}^{n-1}$, $\\boldsymbol{\\varepsilon}^{n-1}$, $f_{\\text{yield}}^{n-1}$ and $\\boldsymbol{\\rho}$ ."
   ]
  },
  {
   "cell_type": "code",
   "execution_count": null,
   "id": "ad1e24fd",
   "metadata": {},
   "outputs": [],
   "source": [
    "    def init_params(self, theta):\n",
    "        epsilons_old = onp.zeros((len(self.fe.cells), self.fe.num_quads, self.fe.vec, self.dim))\n",
    "        sigmas_old = onp.zeros_like(epsilons_old)\n",
    "        f_yield_old = onp.zeros((len(self.fe.cells), self.fe.num_quads))\n",
    "        full_params = np.ones((self.num_cells, theta.shape[1]))\n",
    "        full_params = full_params.at[self.fe.flex_inds].set(theta)\n",
    "        thetas = np.repeat(full_params[:, None, :], self.fe.num_quads, axis=1)\n",
    "        self.full_params = full_params\n",
    "        return sigmas_old, epsilons_old, f_yield_old, thetas"
   ]
  },
  {
   "cell_type": "markdown",
   "id": "53c0257b",
   "metadata": {},
   "source": [
    "Function `inspect` is defined for outputing the yield function values for debuggging."
   ]
  },
  {
   "cell_type": "code",
   "execution_count": null,
   "id": "7c932af5",
   "metadata": {},
   "outputs": [],
   "source": [
    "    def inspect(self):\n",
    "        f_yield_old = self.internal_vars[2]\n",
    "        return np.mean(f_yield_old, axis=1)"
   ]
  },
  {
   "cell_type": "markdown",
   "id": "9d55bcf6",
   "metadata": {},
   "source": [
    "A function `compute_compliance` is defined to compute the compliance which will be set as the objective function in this optimization problem."
   ]
  },
  {
   "cell_type": "code",
   "execution_count": null,
   "id": "ff6738b0",
   "metadata": {},
   "outputs": [],
   "source": [
    "    def compute_compliance(self, load_value, sol):\n",
    "        # Surface integral\n",
    "        boundary_inds = self.boundary_inds_list[0]\n",
    "        _, nanson_scale = self.fe.get_face_shape_grads(boundary_inds)\n",
    "        # (num_selected_faces, 1, num_nodes, vec) * # (num_selected_faces, num_face_quads, num_nodes, 1)    \n",
    "        u_face = sol[self.fe.cells][boundary_inds[:, 0]][:, None, :, :] * self.fe.face_shape_vals[boundary_inds[:, 1]][:, :, :, None]\n",
    "        u_face = np.sum(u_face, axis=2) # (num_selected_faces, num_face_quads, vec)\n",
    "        # (num_cells, num_faces, num_face_quads, dim) -> (num_selected_faces, num_face_quads, dim)\n",
    "        subset_quad_points = self.physical_surface_quad_points[0]\n",
    "        surface_params = load_value*np.ones((subset_quad_points.shape[0], self.fe.num_face_quads)) \n",
    "        neumann_fn = self.get_surface_maps()[0]\n",
    "        traction = -jax.vmap(jax.vmap(neumann_fn))(u_face, subset_quad_points, surface_params) # (num_selected_faces, num_face_quads, vec)\n",
    "        val = np.sum(traction * u_face * nanson_scale[:, :, None])\n",
    "        return val"
   ]
  },
  {
   "cell_type": "markdown",
   "id": "0dfdc9c5",
   "metadata": {},
   "source": [
    "### Mesh\n",
    "\n",
    "Here we use the first-order hexahedron element `HEX8` to discretize the computational domain:"
   ]
  },
  {
   "cell_type": "code",
   "execution_count": null,
   "id": "b4442df2",
   "metadata": {},
   "outputs": [],
   "source": [
    "output_path = os.getcwd()  \n",
    "## output_path = os.path.join(os.path.dirname(__file__), 'output')\n",
    "files = glob.glob(os.path.join(output_path, f'vtk/*'))\n",
    "for f in files:\n",
    "    os.remove(f)\n",
    "ele_type = 'HEX8'\n",
    "cell_type = get_meshio_cell_type(ele_type)\n",
    "meshio_mesh = box_mesh_gmsh(50, 30, 1, 50., 30., 1., output_path)\n",
    "mesh = Mesh(meshio_mesh.points, meshio_mesh.cells_dict[cell_type])"
   ]
  },
  {
   "cell_type": "markdown",
   "id": "dbbb25c4",
   "metadata": {},
   "source": [
    "### Boundary conditions\n",
    "\n",
    "The location and value of the Dirichlet boundary condition is defined. The location of the Neumann boundary is also defined."
   ]
  },
  {
   "cell_type": "code",
   "execution_count": 9,
   "id": "c8fe5385",
   "metadata": {},
   "outputs": [],
   "source": [
    "def fixed_location(point):\n",
    "    return np.isclose(point[0], 0., atol=1e-5)\n",
    "    \n",
    "def load_location(point):\n",
    "    return np.logical_and(np.isclose(point[0], 50., atol=1e-5), np.isclose(point[1], 15., atol=1.5))\n",
    "\n",
    "def dirichlet_val(point):\n",
    "    return 0.\n",
    "\n",
    "# If max_load = 3e2, plastic deformation will not occur. \n",
    "# You may check the \"f_yield\" variable in the vtk file. \n",
    "# f_yield > 0 indicate plastic deformation has occurred.\n",
    "max_load = 4e2\n",
    "\n",
    "dirichlet_bc_info = [[fixed_location]*3, [0, 1, 2], [dirichlet_val]*3]\n",
    "location_fns = [load_location]"
   ]
  },
  {
   "cell_type": "markdown",
   "id": "d2dd4938",
   "metadata": {},
   "source": [
    "### Problem\n",
    "\n",
    "We have completed all the preliminary preparations for the problem. Then we can proceed to create an instance of our problem:"
   ]
  },
  {
   "cell_type": "code",
   "execution_count": null,
   "id": "95a31a03",
   "metadata": {},
   "outputs": [],
   "source": [
    "problem = Plasticity(mesh, vec=3, dim=3, dirichlet_bc_info=dirichlet_bc_info, location_fns=location_fns)"
   ]
  },
  {
   "cell_type": "markdown",
   "id": "07e2ed96",
   "metadata": {},
   "source": [
    "### Solver\n",
    "\n",
    "We choose `umfpack_solver` as the linear solver and wrap the `problem` instance with `ad_wrapper`."
   ]
  },
  {
   "cell_type": "code",
   "execution_count": 11,
   "id": "fc5a2d09",
   "metadata": {},
   "outputs": [],
   "source": [
    "solver_options = {'umfpack_solver': {}}\n",
    "fwd_pred = ad_wrapper(problem, solver_options=solver_options, adjoint_solver_options={'umfpack_solver': {}})"
   ]
  },
  {
   "cell_type": "markdown",
   "id": "39ec2d7d",
   "metadata": {},
   "source": [
    " The traction force is applied incrementally in this plasticity problem by using a loop in the function `fwd_pred_seq`. The internal variables ($\\boldsymbol{\\sigma}^{n-1}$, $\\boldsymbol{\\varepsilon}^{n-1}$, $f_{\\text{yield}}^{n-1}$ and $\\boldsymbol{\\rho}$) are initialized before the loop and updated after each step. The final displacement field $\\boldsymbol{u}^n$ is returned."
   ]
  },
  {
   "cell_type": "code",
   "execution_count": 12,
   "id": "b91fa94c",
   "metadata": {},
   "outputs": [],
   "source": [
    "def fwd_pred_seq(theta):\n",
    "    rs = np.linspace(0.2, 1., 5)\n",
    "    body_params = problem.init_params(theta)\n",
    "    sol_list = [np.ones((problem.fe.num_total_nodes, problem.fe.vec))]\n",
    "\n",
    "    for i in range(len(rs)):\n",
    "        print(f\"\\nStep {i + 1} in {len(rs)}\")\n",
    "        load_value = rs[i]*max_load\n",
    "        # (num_selected_faces, num_face_quads)\n",
    "        surface_quad_points = problem.physical_surface_quad_points[0]\n",
    "        surface_params = load_value*np.ones_like(surface_quad_points)[:, :, 0]\n",
    "        # If you want to set initial guess, do as follows:\n",
    "        solver_options['initial_guess'] = sol_list\n",
    "        sol_list = fwd_pred([body_params, surface_params])\n",
    "        body_params = problem.update_stress_strain(sol_list[0], body_params)  \n",
    "    return sol_list[0]  "
   ]
  },
  {
   "cell_type": "markdown",
   "id": "f11bd7b8",
   "metadata": {},
   "source": [
    "### Objective function\n",
    "\n",
    "Objective function definition that computes the total compliance for a given design $\\boldsymbol{\\rho}$."
   ]
  },
  {
   "cell_type": "code",
   "execution_count": 13,
   "id": "7aa16639",
   "metadata": {},
   "outputs": [],
   "source": [
    "def J_total(theta):\n",
    "    sol = fwd_pred_seq(theta)\n",
    "    compliance = problem.compute_compliance(max_load, sol)\n",
    "    return compliance"
   ]
  },
  {
   "cell_type": "markdown",
   "id": "730cc1a7",
   "metadata": {},
   "source": [
    "### Post processing\n",
    "\n",
    "Solution output function that saves VTK files for visualization and tracks optimization progress."
   ]
  },
  {
   "cell_type": "code",
   "execution_count": 14,
   "id": "d02e365c",
   "metadata": {},
   "outputs": [],
   "source": [
    "outputs = []\n",
    "def output_sol(theta, obj_val):\n",
    "    print(f\"\\nOutput solution - need to solve the forward problem again...\")\n",
    "    sol = fwd_pred_seq(theta)\n",
    "    f_yield = problem.inspect()\n",
    "    vtu_path = os.path.join(output_path, f'vtk/sol_{output_sol.counter:03d}.vtu')\n",
    "    save_sol(problem.fe, sol, vtu_path, cell_infos=[('rho1', problem.full_params[:, 0]), ('rho2', problem.full_params[:, 1]), ('f_yield', f_yield)])\n",
    "    print(f\"compliance = {obj_val}\")\n",
    "    print(f\"max theta = {np.max(theta[:, 0])}, min theta = {np.min(theta[:, 0])}, mean theta = {np.mean(theta[:, 0])}\")\n",
    "    outputs.append(obj_val)\n",
    "    output_sol.counter += 1\n",
    "\n",
    "output_sol.counter = 0"
   ]
  },
  {
   "cell_type": "markdown",
   "id": "1b6202b8",
   "metadata": {},
   "source": [
    "### Gradient verification\n",
    "\n",
    "Gradient verification section that compares finite difference gradients with automatic differentiation gradients for validation."
   ]
  },
  {
   "cell_type": "code",
   "execution_count": null,
   "id": "da96b2a4",
   "metadata": {},
   "outputs": [],
   "source": [
    "num_flex = len(problem.fe.flex_inds)\n",
    "\n",
    "# Check the accuracy of the gradient.\n",
    "gradient_flag = True\n",
    "if gradient_flag:\n",
    "    def get_theta(vf, vy):\n",
    "        return np.hstack((vf*np.ones((num_flex, 1)), vy*np.ones((num_flex, 1))))\n",
    "\n",
    "    def test_fun(vf):\n",
    "        theta = get_theta(vf, vy)\n",
    "        compliance = J_total(theta)\n",
    "        return compliance\n",
    "\n",
    "    h = 1e-3\n",
    "    vf = 0.5\n",
    "    vy = 0.25\n",
    "    compliance_minus = test_fun(vf - h)\n",
    "    compliance_plus = test_fun(vf + h)\n",
    "    fd_gradient = (compliance_plus - compliance_minus)/(2*h)\n",
    "    ad_gradient = jax.grad(test_fun)(vf)\n",
    "    print(f\"fd_gradient = {fd_gradient}, ad_gradient = {ad_gradient}\")\n",
    "    # output_sol(get_theta(vf, vy), None)"
   ]
  },
  {
   "cell_type": "markdown",
   "id": "3a8e5bcf",
   "metadata": {},
   "source": [
    "The output is shown as follows:"
   ]
  },
  {
   "cell_type": "markdown",
   "id": "293ddf47",
   "metadata": {},
   "source": [
    ">fd_gradient = -12138.2773418959, ad_gradient = -12138.120100166507"
   ]
  },
  {
   "cell_type": "markdown",
   "id": "95dcd8cd",
   "metadata": {},
   "source": [
    "### Optimization\n",
    "\n",
    "Preparation for optimization using the Method of Moving Asymptotes (MMA) optimizer. The value and gradient with respect to the design variables of the objective function are computed through the function `objectiveHandle`. The values and gradients with respect to the design variables of the two volume constraints are computed through the function `computeGlobalVolumeConstraint`."
   ]
  },
  {
   "cell_type": "code",
   "execution_count": null,
   "id": "57984bf7",
   "metadata": {},
   "outputs": [],
   "source": [
    "# Run topology optimization.\n",
    "optimize_flag = True\n",
    "if optimize_flag:\n",
    "    vf = 0.5\n",
    "    vy = 0.25\n",
    "    def objectiveHandle(rho):\n",
    "        J, dJ = jax.value_and_grad(J_total)(rho)\n",
    "        if objectiveHandle.counter % 5 == 0:\n",
    "            output_sol(rho, J)\n",
    "        objectiveHandle.counter += 1\n",
    "        return J, dJ\n",
    "\n",
    "    objectiveHandle.counter = 0\n",
    "\n",
    "    def computeConstraints(rho, epoch):\n",
    "        def computeGlobalVolumeConstraint(rho):\n",
    "            rho1 = rho[:, 0]\n",
    "            rho2 = rho[:, 1]\n",
    "            g1 = np.sum(rho1)/num_flex/vf - 1.\n",
    "            g2 = np.sum(rho2)/num_flex/vy - 1.\n",
    "            return np.array([g1, g2])\n",
    "\n",
    "        c = computeGlobalVolumeConstraint(rho)\n",
    "        gradc = jax.jacrev(computeGlobalVolumeConstraint)(rho)\n",
    "        return c, gradc"
   ]
  },
  {
   "cell_type": "markdown",
   "id": "b61f562a",
   "metadata": {},
   "source": [
    "Optimization execution with initial design and parameters."
   ]
  },
  {
   "cell_type": "code",
   "execution_count": null,
   "id": "c87e741e",
   "metadata": {},
   "outputs": [],
   "source": [
    "    optimizationParams = {'maxIters':51, 'movelimit':0.1}\n",
    "    rho_ini = np.hstack((vf*np.ones((num_flex, 1)), vy*np.ones((num_flex, 1))))  \n",
    "\n",
    "    # If topology optimization does not converge, most likely the linear solver fails. You may need to try a better linear solver.\n",
    "    optimize(problem.fe, rho_ini, optimizationParams, objectiveHandle, computeConstraints, numConstraints=2)\n",
    "    print(f\"Objective values = {onp.array(outputs)}\")\n",
    "    # print(f\"Compliance = {J_total(np.ones((num_flex, 1)))} for full material\")"
   ]
  },
  {
   "cell_type": "markdown",
   "id": "8cd4d9ae",
   "metadata": {},
   "source": [
    "The optimized result is shown as follows:\n",
    "\n",
    "<center>\n",
    "  <img src=\"../../_static/images/material_structure_co_design_result.png\" width=\"2400\" />\n",
    "  <p><em>Structure ($\\boldsymbol{\\rho}_1$) and material ($\\boldsymbol{\\rho}_2$) distribution.</em></p>\n",
    "</center>\n",
    "\n",
    "<center>\n",
    "  <img src=\"../../_static/images/material_structure_co_design_curve.png\" width=\"400\" />\n",
    "  <p><em>Objective function values.</em></p>\n",
    "</center>\n",
    "\n",
    "A comparison of the optimization curves demonstrates that the co-design strategy achieves a better result than pure structural topology optimization (optimization over $\\boldsymbol{\\rho}_1$, but fixed $\\boldsymbol{\\rho}_2$ value to be 0.25).\n",
    "\n",
    "<center>\n",
    "  <img src=\"../../_static/images/material_structure_co_design_test.png\" width=\"400\" />\n",
    "  <p><em>Comparison with the single design variable case (pure structural topology optimization).</em></p>\n",
    "</center>"
   ]
  },
  {
   "cell_type": "markdown",
   "id": "ac56ac91",
   "metadata": {},
   "source": [
    "> Please refer to this [link](https://github.com/deepmodeling/jax-fem/blob/main/docs/source/learn/structure_material_co_design/example.ipynb) to download the source file."
   ]
  }
 ],
 "metadata": {
  "language_info": {
   "name": "python"
  }
 },
 "nbformat": 4,
 "nbformat_minor": 5
}

